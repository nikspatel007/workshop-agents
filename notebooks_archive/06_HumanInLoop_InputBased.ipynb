{
 "cells": [
  {
   "cell_type": "markdown",
   "metadata": {},
   "source": [
    "# 06: Human-in-the-Loop (Interactive)\n",
    "\n",
    "When the AI is uncertain, actually ask a human for help!"
   ]
  },
  {
   "cell_type": "code",
   "execution_count": 8,
   "metadata": {},
   "outputs": [
    {
     "name": "stdout",
     "output_type": "stream",
     "text": [
      "✅ Ready for interactive human review!\n"
     ]
    }
   ],
   "source": [
    "import sys\n",
    "from pathlib import Path\n",
    "sys.path.append(str(Path.cwd().parent))\n",
    "\n",
    "from config.llm_factory import LLMFactory\n",
    "from pydantic import BaseModel\n",
    "from typing import Optional\n",
    "\n",
    "print(\"✅ Ready for interactive human review!\")"
   ]
  },
  {
   "cell_type": "markdown",
   "metadata": {},
   "source": [
    "## Simple Interactive BS Detector"
   ]
  },
  {
   "cell_type": "code",
   "execution_count": 9,
   "metadata": {},
   "outputs": [],
   "source": [
    "class BSResult(BaseModel):\n",
    "    verdict: str\n",
    "    confidence: int\n",
    "    reasoning: str\n",
    "    human_reviewed: bool = False\n",
    "\n",
    "def check_claim_with_human(claim: str, auto_mode: bool = False) -> BSResult:\n",
    "    \"\"\"Check claim and ask human when uncertain\"\"\"\n",
    "    \n",
    "    # Get AI verdict first\n",
    "    llm = LLMFactory.create_llm()\n",
    "    llm_with_structure = llm.with_structured_output(BSResult)\n",
    "    \n",
    "    prompt = f\"\"\"Analyze if this claim is BS or LEGITIMATE: {claim}\n",
    "    \n",
    "    Be skeptical. If you're not certain, use lower confidence.\n",
    "    Confidence scale: 0-100 (below 60 means uncertain)\"\"\"\n",
    "    \n",
    "    ai_result = llm_with_structure.invoke(prompt)\n",
    "    \n",
    "    print(f\"\\n🤖 AI Analysis:\")\n",
    "    print(f\"Verdict: {ai_result.verdict} ({ai_result.confidence}%)\")\n",
    "    print(f\"Reasoning: {ai_result.reasoning}\")\n",
    "    \n",
    "    # Check if human review needed\n",
    "    if ai_result.confidence < 60:\n",
    "        print(f\"\\n⚠️  Low confidence ({ai_result.confidence}%) - Human review needed!\")\n",
    "        \n",
    "        if auto_mode:\n",
    "            print(\"[Auto mode: Simulating human review]\")\n",
    "            return BSResult(\n",
    "                verdict=ai_result.verdict,\n",
    "                confidence=85,\n",
    "                reasoning=f\"Human reviewed: {ai_result.reasoning}\",\n",
    "                human_reviewed=True\n",
    "            )\n",
    "        else:\n",
    "            # ACTUALLY ASK THE HUMAN\n",
    "            print(\"\\n\" + \"=\"*50)\n",
    "            print(\"🧑 HUMAN REVIEW REQUIRED\")\n",
    "            print(\"=\"*50)\n",
    "            print(f\"\\nClaim: '{claim}'\")\n",
    "            print(f\"\\nAI thinks: {ai_result.verdict} but only {ai_result.confidence}% confident\")\n",
    "            print(f\"Reason: {ai_result.reasoning}\")\n",
    "            \n",
    "            # Get human input\n",
    "            print(\"\\nWhat's your verdict?\")\n",
    "            human_verdict = input(\"Enter BS or LEGITIMATE: \").strip().upper()\n",
    "            \n",
    "            while human_verdict not in [\"BS\", \"LEGITIMATE\"]:\n",
    "                human_verdict = input(\"Please enter BS or LEGITIMATE: \").strip().upper()\n",
    "            \n",
    "            human_confidence = int(input(\"Your confidence (0-100): \"))\n",
    "            human_reasoning = input(\"Brief explanation (optional): \") or \"Human expert review\"\n",
    "            \n",
    "            return BSResult(\n",
    "                verdict=human_verdict,\n",
    "                confidence=human_confidence,\n",
    "                reasoning=f\"Human: {human_reasoning}\",\n",
    "                human_reviewed=True\n",
    "            )\n",
    "    \n",
    "    return ai_result"
   ]
  },
  {
   "cell_type": "markdown",
   "metadata": {},
   "source": [
    "## Test with Auto Mode First"
   ]
  },
  {
   "cell_type": "code",
   "execution_count": 11,
   "metadata": {},
   "outputs": [
    {
     "name": "stdout",
     "output_type": "stream",
     "text": [
      "🤖 Testing in AUTO MODE (simulated human review)\n",
      "\n",
      "\n",
      "============================================================\n",
      "Claim: 'The Boeing 747 has four engines'\n",
      "\n",
      "🤖 AI Analysis:\n",
      "Verdict: LEGITIMATE (95%)\n",
      "Reasoning: The Boeing 747 is a well-known wide-body commercial aircraft that is designed and manufactured by Boeing. It is widely recognized for having four engines mounted under its wings. This fact is well-documented in aviation literature and by multiple reputable sources. Given the consistency of this information and its common knowledge in aviation, the claim that the Boeing 747 has four engines is legitimate.\n",
      "\n",
      "Final verdict: LEGITIMATE (95%)\n",
      "Human reviewed: True\n",
      "\n",
      "============================================================\n",
      "Claim: 'People think Boeing is not a trustworthy company anymore.'\n",
      "\n",
      "🤖 AI Analysis:\n",
      "Verdict: LEGITIMATE (75%)\n",
      "Reasoning: There have been well-publicized incidents involving Boeing, such as the 737 MAX crashes and subsequent investigations into their safety practices, which have led to public skepticism about the company's trustworthiness. While Boeing remains a major aerospace company, these events have damaged its reputation among many people. Therefore, the claim that people think Boeing is not trustworthy anymore is legitimate, though confidence is moderate as opinions can vary and the company has taken steps to improve.\n",
      "\n",
      "Final verdict: LEGITIMATE (75%)\n",
      "Human reviewed: True\n"
     ]
    }
   ],
   "source": [
    "# Test in auto mode (simulates human review)\n",
    "test_claims = [\n",
    "    \"The Boeing 747 has four engines\",  # High confidence - no review needed\n",
    "    \"People think Boeing is not a trustworthy company anymore.\",  # Should trigger review\n",
    "]\n",
    "\n",
    "print(\"🤖 Testing in AUTO MODE (simulated human review)\\n\")\n",
    "\n",
    "for claim in test_claims:\n",
    "    print(f\"\\n{'='*60}\")\n",
    "    print(f\"Claim: '{claim}'\")\n",
    "    result = check_claim_with_human(claim, auto_mode=True)\n",
    "    print(f\"\\nFinal verdict: {result.verdict} ({result.confidence}%)\")\n",
    "    print(f\"Human reviewed: {result.human_reviewed}\")"
   ]
  },
  {
   "cell_type": "markdown",
   "metadata": {},
   "source": [
    "## Interactive Mode - You Provide Input!"
   ]
  },
  {
   "cell_type": "code",
   "execution_count": 12,
   "metadata": {},
   "outputs": [
    {
     "name": "stdout",
     "output_type": "stream",
     "text": [
      "👤 INTERACTIVE MODE - You will be asked for input!\n",
      "\n",
      "Testing claim: 'Quantum computers can break all encryption instantly'\n",
      "\n",
      "🤖 AI Analysis:\n",
      "Verdict: BS (85%)\n",
      "Reasoning: Quantum computers have the potential to break certain encryption schemes, such as those based on integer factorization (e.g., RSA) or discrete logarithms, by using Shor's algorithm. However, current quantum computers are not yet powerful or error-corrected enough to break all encryption instantly. Moreover, symmetric encryption schemes like AES are generally more resilient, requiring a doubling of key length to maintain security against quantum attacks. Additionally, post-quantum cryptography efforts aim to develop quantum-resistant algorithms. Therefore, the claim that quantum computers can break all encryption instantly is an overstatement and misleading.\n",
      "\n",
      "✅ Final Result:\n",
      "Verdict: BS (85%)\n",
      "Human reviewed: True\n",
      "Reasoning: Quantum computers have the potential to break certain encryption schemes, such as those based on integer factorization (e.g., RSA) or discrete logarithms, by using Shor's algorithm. However, current quantum computers are not yet powerful or error-corrected enough to break all encryption instantly. Moreover, symmetric encryption schemes like AES are generally more resilient, requiring a doubling of key length to maintain security against quantum attacks. Additionally, post-quantum cryptography efforts aim to develop quantum-resistant algorithms. Therefore, the claim that quantum computers can break all encryption instantly is an overstatement and misleading.\n"
     ]
    }
   ],
   "source": [
    "# Now with REAL human input\n",
    "print(\"👤 INTERACTIVE MODE - You will be asked for input!\\n\")\n",
    "\n",
    "# Try a claim that should trigger human review\n",
    "uncertain_claim = \"Quantum computers can break all encryption instantly\"\n",
    "\n",
    "print(f\"Testing claim: '{uncertain_claim}'\")\n",
    "result = check_claim_with_human(uncertain_claim, auto_mode=False)\n",
    "\n",
    "print(f\"\\n✅ Final Result:\")\n",
    "print(f\"Verdict: {result.verdict} ({result.confidence}%)\")\n",
    "print(f\"Human reviewed: {result.human_reviewed}\")\n",
    "print(f\"Reasoning: {result.reasoning}\")"
   ]
  },
  {
   "cell_type": "markdown",
   "metadata": {},
   "source": [
    "## Interactive Loop"
   ]
  },
  {
   "cell_type": "code",
   "execution_count": null,
   "metadata": {},
   "outputs": [],
   "source": [
    "print(\"🎮 Interactive BS Detector (type 'quit' to exit)\\n\")\n",
    "\n",
    "while True:\n",
    "    claim = input(\"\\nEnter a claim to check: \")\n",
    "    if claim.lower() == 'quit':\n",
    "        break\n",
    "    \n",
    "    result = check_claim_with_human(claim, auto_mode=False)\n",
    "    \n",
    "    print(f\"\\n📊 Final Result:\")\n",
    "    print(f\"Verdict: {result.verdict} ({result.confidence}%)\")\n",
    "    if result.human_reviewed:\n",
    "        print(\"✋ Human reviewed\")\n",
    "    print(f\"Reasoning: {result.reasoning}\")\n",
    "\n",
    "print(\"\\nThanks for participating!\")"
   ]
  },
  {
   "cell_type": "markdown",
   "metadata": {},
   "source": [
    "## Production Implementation Ideas\n",
    "\n",
    "1. **Web Interface**: Replace `input()` with web form\n",
    "2. **Queue System**: Store uncertain claims for batch review\n",
    "3. **Multiple Reviewers**: Get consensus from multiple humans\n",
    "4. **Learn from Feedback**: Update model based on human corrections\n",
    "5. **Audit Trail**: Log all human decisions for compliance"
   ]
  }
 ],
 "metadata": {
  "kernelspec": {
   "display_name": "Python 3 (ipykernel)",
   "language": "python",
   "name": "python3"
  },
  "language_info": {
   "codemirror_mode": {
    "name": "ipython",
    "version": 3
   },
   "file_extension": ".py",
   "mimetype": "text/x-python",
   "name": "python",
   "nbconvert_exporter": "python",
   "pygments_lexer": "ipython3",
   "version": "3.13.5"
  }
 },
 "nbformat": 4,
 "nbformat_minor": 4
}
