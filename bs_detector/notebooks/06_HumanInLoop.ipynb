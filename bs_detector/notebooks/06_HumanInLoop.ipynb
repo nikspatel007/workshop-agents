{
 "cells": [
  {
   "cell_type": "markdown",
   "metadata": {},
   "source": [
    "# 05: Human-in-the-Loop\n",
    "\n",
    "When the AI is uncertain, ask a human for help."
   ]
  },
  {
   "cell_type": "code",
   "execution_count": 1,
   "metadata": {},
   "outputs": [
    {
     "name": "stdout",
     "output_type": "stream",
     "text": [
      "✅ Human-in-the-Loop BS Detector ready!\n"
     ]
    }
   ],
   "source": [
    "import sys\n",
    "from pathlib import Path\n",
    "sys.path.append(str(Path.cwd().parent))\n",
    "\n",
    "from modules.m6_human_in_loop_v2 import (\n",
    "    check_claim_with_human_review_v2,\n",
    "    create_human_in_loop_graph_v2\n",
    ")\n",
    "\n",
    "# Visualize the graph\n",
    "app = create_human_in_loop_graph_v2()\n",
    "print(\"✅ Human-in-the-Loop BS Detector ready!\")"
   ]
  },
  {
   "cell_type": "markdown",
   "metadata": {},
   "source": [
    "## How It Works\n",
    "\n",
    "1. **BS Detection** → Same as before\n",
    "2. **Review Check** → If confidence < 60%, ask human\n",
    "3. **Human Review** → (Simulated for demo)\n",
    "4. **Final Output** → Human-validated result"
   ]
  },
  {
   "cell_type": "code",
   "execution_count": 2,
   "metadata": {},
   "outputs": [
    {
     "name": "stdout",
     "output_type": "stream",
     "text": [
      "\n",
      "📝 Claim: 'The Boeing 747 has four engines'\n",
      "Verdict: LEGITIMATE (100%)\n",
      "Human Reviewed: False\n",
      "\n",
      "📝 Claim: 'Scientists invented teleportation'\n",
      "Verdict: BS (95%)\n",
      "Human Reviewed: False\n"
     ]
    }
   ],
   "source": [
    "# Test different confidence levels\n",
    "test_claims = [\n",
    "    \"The Boeing 747 has four engines\",  # High confidence\n",
    "    \"Scientists invented teleportation\",  # Low confidence  \n",
    "]\n",
    "\n",
    "for claim in test_claims:\n",
    "    print(f\"\\n📝 Claim: '{claim}'\")\n",
    "    result = check_claim_with_human_review_v2(claim)\n",
    "    \n",
    "    print(f\"Verdict: {result['verdict']} ({result['confidence']}%)\")\n",
    "    print(f\"Human Reviewed: {result.get('human_reviewed', False)}\")"
   ]
  },
  {
   "cell_type": "markdown",
   "metadata": {},
   "source": [
    "## Production Pattern\n",
    "\n",
    "Replace the simulated review with real human input:"
   ]
  },
  {
   "cell_type": "code",
   "execution_count": 3,
   "metadata": {},
   "outputs": [],
   "source": [
    "def production_human_review(state):\n",
    "    \"\"\"Real human review for production\"\"\"\n",
    "    # Option 1: Queue for async review\n",
    "    queue_id = queue_for_review(state)\n",
    "    return {\"status\": \"pending\", \"queue_id\": queue_id}\n",
    "    \n",
    "    # Option 2: Direct user input\n",
    "    # print(f\"Review needed: {state['claim']}\")\n",
    "    # verdict = input(\"Verdict (BS/LEGITIMATE): \")\n",
    "    # confidence = int(input(\"Confidence (0-100): \"))\n",
    "    # return {\"verdict\": verdict, \"confidence\": confidence}\n",
    "\n",
    "# To use: replace simulate_human_review_node with production_human_review"
   ]
  },
  {
   "cell_type": "markdown",
   "metadata": {},
   "source": [
    "## Key Benefits\n",
    "\n",
    "1. **Simple Implementation** - Conditional routing, no interrupts\n",
    "2. **Flexible Threshold** - Adjust when to ask for help\n",
    "3. **Production Ready** - Easy to add real human review\n",
    "4. **Improved Accuracy** - Humans handle uncertain cases\n",
    "\n",
    "Next: Add memory to learn from human feedback!"
   ]
  }
 ],
 "metadata": {
  "kernelspec": {
   "display_name": "Python 3 (ipykernel)",
   "language": "python",
   "name": "python3"
  },
  "language_info": {
   "codemirror_mode": {
    "name": "ipython",
    "version": 3
   },
   "file_extension": ".py",
   "mimetype": "text/x-python",
   "name": "python",
   "nbconvert_exporter": "python",
   "pygments_lexer": "ipython3",
   "version": "3.13.5"
  }
 },
 "nbformat": 4,
 "nbformat_minor": 4
}
