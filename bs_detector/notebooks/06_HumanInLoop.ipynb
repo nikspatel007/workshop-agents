{
 "cells": [
  {
   "cell_type": "markdown",
   "metadata": {},
   "source": [
    "# 06: Human-in-the-Loop with Interrupts\n",
    "\n",
    "Use LangGraph's `interrupt` function for proper human-in-the-loop control."
   ]
  },
  {
   "cell_type": "code",
   "execution_count": 13,
   "metadata": {},
   "outputs": [
    {
     "name": "stdout",
     "output_type": "stream",
     "text": [
      "✅ Ready for human-in-the-loop with interrupts!\n"
     ]
    }
   ],
   "source": [
    "import sys\n",
    "from pathlib import Path\n",
    "sys.path.append(str(Path.cwd().parent))\n",
    "\n",
    "from typing import Annotated\n",
    "from langchain_core.tools import tool\n",
    "from langgraph.checkpoint.memory import InMemorySaver\n",
    "from langgraph.graph import StateGraph, START, END\n",
    "from langgraph.graph.message import add_messages\n",
    "from langgraph.prebuilt import ToolNode, tools_condition\n",
    "from langgraph.types import Command, interrupt\n",
    "from typing_extensions import TypedDict\n",
    "\n",
    "from config.llm_factory import LLMFactory\n",
    "\n",
    "print(\"✅ Ready for human-in-the-loop with interrupts!\")"
   ]
  },
  {
   "cell_type": "markdown",
   "metadata": {},
   "source": [
    "## Define State and Tools"
   ]
  },
  {
   "cell_type": "code",
   "execution_count": 14,
   "metadata": {},
   "outputs": [],
   "source": [
    "class State(TypedDict):\n",
    "    messages: Annotated[list, add_messages]\n",
    "\n",
    "@tool\n",
    "def verify_claim(claim: str) -> str:\n",
    "    \"\"\"Verify an aviation claim against known facts.\"\"\"\n",
    "    facts = {\n",
    "        \"747 engines\": \"The Boeing 747 has 4 engines\",\n",
    "        \"wright brothers\": \"First flight was December 17, 1903\",\n",
    "        \"concorde speed\": \"Concorde flew at Mach 2.04\"\n",
    "    }\n",
    "    \n",
    "    claim_lower = claim.lower()\n",
    "    for key, fact in facts.items():\n",
    "        if key in claim_lower:\n",
    "            return fact\n",
    "    return \"No specific data found for this claim.\"\n",
    "\n",
    "@tool \n",
    "def human_review(claim: str, ai_verdict: str, confidence: int) -> str:\n",
    "    \"\"\"Request human review when confidence is low.\"\"\"\n",
    "    # Interrupt execution and wait for human input\n",
    "    human_response = interrupt({\n",
    "        \"claim\": claim,\n",
    "        \"ai_verdict\": ai_verdict, \n",
    "        \"confidence\": confidence,\n",
    "        \"reason\": f\"Low confidence ({confidence}%) - need human verification\"\n",
    "    })\n",
    "    return human_response[\"verdict\"]\n",
    "\n",
    "tools = [verify_claim, human_review]"
   ]
  },
  {
   "cell_type": "markdown",
   "metadata": {},
   "source": [
    "## Build the Graph"
   ]
  },
  {
   "cell_type": "code",
   "execution_count": 15,
   "metadata": {},
   "outputs": [],
   "source": [
    "# Create LLM with tools\n",
    "llm = LLMFactory.create_llm()\n",
    "llm_with_tools = llm.bind_tools(tools)\n",
    "\n",
    "def bs_detector(state: State):\n",
    "    \"\"\"Main BS detection node\"\"\"\n",
    "    # Add system message if this is the first message\n",
    "    messages = state[\"messages\"]\n",
    "    if len(messages) == 1:  # Only user message\n",
    "        system_msg = {\n",
    "            \"role\": \"system\",\n",
    "            \"content\": \"\"\"You are an aviation BS detector. \n",
    "            First use verify_claim to check facts.\n",
    "            Then determine if the claim is BS or LEGITIMATE with a confidence score.\n",
    "            If your confidence is below 60%, use human_review for help.\"\"\"\n",
    "        }\n",
    "        messages = [system_msg] + messages\n",
    "    \n",
    "    response = llm_with_tools.invoke(messages)\n",
    "    # Limit to one tool call at a time for clarity\n",
    "    assert len(response.tool_calls) <= 1\n",
    "    return {\"messages\": [response]}\n",
    "\n",
    "# Build graph\n",
    "graph_builder = StateGraph(State)\n",
    "\n",
    "# Add nodes\n",
    "graph_builder.add_node(\"bs_detector\", bs_detector)\n",
    "tool_node = ToolNode(tools=tools)\n",
    "graph_builder.add_node(\"tools\", tool_node)\n",
    "\n",
    "# Add edges\n",
    "graph_builder.add_edge(START, \"bs_detector\")\n",
    "graph_builder.add_conditional_edges(\n",
    "    \"bs_detector\",\n",
    "    tools_condition,\n",
    ")\n",
    "graph_builder.add_edge(\"tools\", \"bs_detector\")\n",
    "\n",
    "# Compile with checkpointer for persistence\n",
    "memory = InMemorySaver()\n",
    "graph = graph_builder.compile(checkpointer=memory)"
   ]
  },
  {
   "cell_type": "markdown",
   "metadata": {},
   "source": [
    "## Test High Confidence Claim (No Interrupt)"
   ]
  },
  {
   "cell_type": "code",
   "execution_count": 16,
   "metadata": {},
   "outputs": [
    {
     "name": "stdout",
     "output_type": "stream",
     "text": [
      "================================\u001b[1m Human Message \u001b[0m=================================\n",
      "\n",
      "The Boeing 747 has 4 engines. Is this BS?\n",
      "==================================\u001b[1m Ai Message \u001b[0m==================================\n",
      "Tool Calls:\n",
      "  verify_claim (call_6alvBEtBFQPsDQTvvm1ENEuq)\n",
      " Call ID: call_6alvBEtBFQPsDQTvvm1ENEuq\n",
      "  Args:\n",
      "    claim: The Boeing 747 has 4 engines.\n",
      "=================================\u001b[1m Tool Message \u001b[0m=================================\n",
      "Name: verify_claim\n",
      "\n",
      "No specific data found for this claim.\n",
      "==================================\u001b[1m Ai Message \u001b[0m==================================\n",
      "Tool Calls:\n",
      "  human_review (call_sgfNB8aSz1ue9U1ZZ4dOxYhX)\n",
      " Call ID: call_sgfNB8aSz1ue9U1ZZ4dOxYhX\n",
      "  Args:\n",
      "    claim: The Boeing 747 has 4 engines.\n",
      "    ai_verdict: Unknown\n",
      "    confidence: 50\n"
     ]
    }
   ],
   "source": [
    "# High confidence claim - should not trigger human review\n",
    "config = {\"configurable\": {\"thread_id\": \"1\"}}\n",
    "\n",
    "events = graph.stream(\n",
    "    {\"messages\": [{\"role\": \"user\", \"content\": \"The Boeing 747 has 4 engines. Is this BS?\"}]},\n",
    "    config,\n",
    "    stream_mode=\"values\"\n",
    ")\n",
    "\n",
    "for event in events:\n",
    "    if \"messages\" in event:\n",
    "        event[\"messages\"][-1].pretty_print()"
   ]
  },
  {
   "cell_type": "markdown",
   "metadata": {},
   "source": [
    "## Test Low Confidence Claim (With Interrupt)"
   ]
  },
  {
   "cell_type": "code",
   "execution_count": 17,
   "metadata": {},
   "outputs": [
    {
     "name": "stdout",
     "output_type": "stream",
     "text": [
      "🤖 Testing uncertain claim...\n",
      "\n",
      "================================\u001b[1m Human Message \u001b[0m=================================\n",
      "\n",
      "A new quantum jet can fly at light speed. Is this BS?\n",
      "==================================\u001b[1m Ai Message \u001b[0m==================================\n",
      "Tool Calls:\n",
      "  verify_claim (call_x2ME9CzoucmuSLhwdDmJMAan)\n",
      " Call ID: call_x2ME9CzoucmuSLhwdDmJMAan\n",
      "  Args:\n",
      "    claim: A new quantum jet can fly at light speed.\n",
      "=================================\u001b[1m Tool Message \u001b[0m=================================\n",
      "Name: verify_claim\n",
      "\n",
      "No specific data found for this claim.\n",
      "==================================\u001b[1m Ai Message \u001b[0m==================================\n",
      "Tool Calls:\n",
      "  human_review (call_hJ2ADevSm2gY7UPmseINHrKd)\n",
      " Call ID: call_hJ2ADevSm2gY7UPmseINHrKd\n",
      "  Args:\n",
      "    claim: A new quantum jet can fly at light speed.\n",
      "    ai_verdict: No specific data found for this claim.\n",
      "    confidence: 40\n"
     ]
    }
   ],
   "source": [
    "# Low confidence claim - should trigger human review\n",
    "config2 = {\"configurable\": {\"thread_id\": \"2\"}}\n",
    "\n",
    "print(\"🤖 Testing uncertain claim...\\n\")\n",
    "\n",
    "events = graph.stream(\n",
    "    {\"messages\": [{\"role\": \"user\", \"content\": \"A new quantum jet can fly at light speed. Is this BS?\"}]},\n",
    "    config2,\n",
    "    stream_mode=\"values\"\n",
    ")\n",
    "\n",
    "for event in events:\n",
    "    if \"messages\" in event:\n",
    "        event[\"messages\"][-1].pretty_print()"
   ]
  },
  {
   "cell_type": "markdown",
   "metadata": {},
   "source": [
    "## Check Interrupted State"
   ]
  },
  {
   "cell_type": "code",
   "execution_count": 18,
   "metadata": {},
   "outputs": [
    {
     "name": "stdout",
     "output_type": "stream",
     "text": [
      "\n",
      "🛑 Execution interrupted at: ('tools',)\n",
      "\n",
      "📋 Interrupt details:\n",
      "Claim: A new quantum jet can fly at light speed.\n",
      "AI Verdict: No specific data found for this claim.\n",
      "Confidence: 40%\n"
     ]
    }
   ],
   "source": [
    "# Check where execution stopped\n",
    "snapshot = graph.get_state(config2)\n",
    "print(f\"\\n🛑 Execution interrupted at: {snapshot.next}\")\n",
    "\n",
    "# Get the interrupt data\n",
    "if snapshot.next:\n",
    "    print(\"\\n📋 Interrupt details:\")\n",
    "    last_message = snapshot.values[\"messages\"][-1]\n",
    "    if hasattr(last_message, 'tool_calls') and last_message.tool_calls:\n",
    "        for tool_call in last_message.tool_calls:\n",
    "            if tool_call['name'] == 'human_review':\n",
    "                print(f\"Claim: {tool_call['args']['claim']}\")\n",
    "                print(f\"AI Verdict: {tool_call['args']['ai_verdict']}\")\n",
    "                print(f\"Confidence: {tool_call['args']['confidence']}%\")"
   ]
  },
  {
   "cell_type": "markdown",
   "metadata": {},
   "source": [
    "## Resume with Human Input"
   ]
  },
  {
   "cell_type": "code",
   "execution_count": 19,
   "metadata": {},
   "outputs": [
    {
     "name": "stdout",
     "output_type": "stream",
     "text": [
      "\n",
      "👤 HUMAN REVIEW\n",
      "The claim about quantum jets flying at light speed is definitely BS.\n",
      "\n",
      "==================================\u001b[1m Ai Message \u001b[0m==================================\n",
      "Tool Calls:\n",
      "  human_review (call_hJ2ADevSm2gY7UPmseINHrKd)\n",
      " Call ID: call_hJ2ADevSm2gY7UPmseINHrKd\n",
      "  Args:\n",
      "    claim: A new quantum jet can fly at light speed.\n",
      "    ai_verdict: No specific data found for this claim.\n",
      "    confidence: 40\n",
      "=================================\u001b[1m Tool Message \u001b[0m=================================\n",
      "Name: human_review\n",
      "\n",
      "DEFINITELY BS - Violates laws of physics. Nothing with mass can reach light speed.\n",
      "==================================\u001b[1m Ai Message \u001b[0m==================================\n",
      "\n",
      "The claim that a new quantum jet can fly at light speed is definitely not true. It violates the fundamental laws of physics, as nothing with mass can reach the speed of light. This claim is BS.\n"
     ]
    }
   ],
   "source": [
    "# Provide human verdict\n",
    "print(\"\\n👤 HUMAN REVIEW\")\n",
    "print(\"The claim about quantum jets flying at light speed is definitely BS.\\n\")\n",
    "\n",
    "# Resume execution with human input\n",
    "human_command = Command(\n",
    "    resume={\"verdict\": \"DEFINITELY BS - Violates laws of physics. Nothing with mass can reach light speed.\"}\n",
    ")\n",
    "\n",
    "events = graph.stream(human_command, config2, stream_mode=\"values\")\n",
    "for event in events:\n",
    "    if \"messages\" in event:\n",
    "        event[\"messages\"][-1].pretty_print()"
   ]
  },
  {
   "cell_type": "markdown",
   "metadata": {},
   "source": [
    "## Interactive Session"
   ]
  },
  {
   "cell_type": "code",
   "execution_count": null,
   "metadata": {},
   "outputs": [
    {
     "name": "stdout",
     "output_type": "stream",
     "text": [
      "🎮 Interactive BS Detector (type 'quit' to exit)\n",
      "\n"
     ]
    },
    {
     "name": "stdin",
     "output_type": "stream",
     "text": [
      "\n",
      "Enter a claim to check:  Boeing was better than Airbus in avaition safety in 2024.\n"
     ]
    },
    {
     "name": "stdout",
     "output_type": "stream",
     "text": [
      "================================\u001b[1m Human Message \u001b[0m=================================\n",
      "\n",
      "Is this claim BS: Boeing was better than Airbus in avaition safety in 2024.\n",
      "==================================\u001b[1m Ai Message \u001b[0m==================================\n",
      "Tool Calls:\n",
      "  verify_claim (call_LjpaaqTPl1ZKhzLl0Dvdpvv1)\n",
      " Call ID: call_LjpaaqTPl1ZKhzLl0Dvdpvv1\n",
      "  Args:\n",
      "    claim: Boeing was better than Airbus in aviation safety in 2024.\n",
      "=================================\u001b[1m Tool Message \u001b[0m=================================\n",
      "Name: verify_claim\n",
      "\n",
      "No specific data found for this claim.\n",
      "==================================\u001b[1m Ai Message \u001b[0m==================================\n",
      "Tool Calls:\n",
      "  human_review (call_kNuHD0QX4Gm3TdRwv9oHsRRt)\n",
      " Call ID: call_kNuHD0QX4Gm3TdRwv9oHsRRt\n",
      "  Args:\n",
      "    claim: Boeing was better than Airbus in aviation safety in 2024.\n",
      "    ai_verdict: No specific data found to verify this claim.\n",
      "    confidence: 40\n",
      "\n",
      "⚠️  Human review needed!\n"
     ]
    },
    {
     "name": "stdin",
     "output_type": "stream",
     "text": [
      "Your verdict (BS/LEGITIMATE):  Naah. Too many flights has system issues. Not reliable. \n",
      "Brief explanation:  Lot of crashes with 737 and dreamliner planes across the world. \n"
     ]
    },
    {
     "name": "stdout",
     "output_type": "stream",
     "text": [
      "==================================\u001b[1m Ai Message \u001b[0m==================================\n",
      "Tool Calls:\n",
      "  human_review (call_kNuHD0QX4Gm3TdRwv9oHsRRt)\n",
      " Call ID: call_kNuHD0QX4Gm3TdRwv9oHsRRt\n",
      "  Args:\n",
      "    claim: Boeing was better than Airbus in aviation safety in 2024.\n",
      "    ai_verdict: No specific data found to verify this claim.\n",
      "    confidence: 40\n",
      "=================================\u001b[1m Tool Message \u001b[0m=================================\n",
      "Name: human_review\n",
      "\n",
      "Naah. Too many flights has system issues. Not reliable.  - Human: Lot of crashes with 737 and dreamliner planes across the world. \n",
      "==================================\u001b[1m Ai Message \u001b[0m==================================\n",
      "\n",
      "The claim that Boeing was better than Airbus in aviation safety in 2024 cannot be confirmed based on available data. In fact, there have been notable safety concerns and incidents involving Boeing aircraft such as the 737 and Dreamliner models. These issues have affected the perception of Boeing's safety performance. Therefore, the claim appears to be unreliable.\n"
     ]
    }
   ],
   "source": [
    "def run_interactive_bs_detector():\n",
    "    \"\"\"Run an interactive BS detection session\"\"\"\n",
    "    thread_id = 100\n",
    "    \n",
    "    print(\"🎮 Interactive BS Detector (type 'quit' to exit)\\n\")\n",
    "    \n",
    "    while True:\n",
    "        claim = input(\"\\nEnter a claim to check: \")\n",
    "        if claim.lower() == 'quit':\n",
    "            break\n",
    "            \n",
    "        thread_id += 1\n",
    "        config = {\"configurable\": {\"thread_id\": str(thread_id)}}\n",
    "        \n",
    "        # Stream the response\n",
    "        events = graph.stream(\n",
    "            {\"messages\": [{\"role\": \"user\", \"content\": f\"Is this claim BS: {claim}\"}]},\n",
    "            config,\n",
    "            stream_mode=\"values\"\n",
    "        )\n",
    "        \n",
    "        for event in events:\n",
    "            if \"messages\" in event:\n",
    "                event[\"messages\"][-1].pretty_print()\n",
    "        \n",
    "        # Check if interrupted\n",
    "        snapshot = graph.get_state(config)\n",
    "        if snapshot.next:\n",
    "            print(\"\\n⚠️  Human review needed!\")\n",
    "            verdict = input(\"Your verdict (BS/LEGITIMATE): \")\n",
    "            explanation = input(\"Brief explanation: \")\n",
    "            \n",
    "            # Resume with human input\n",
    "            human_command = Command(\n",
    "                resume={\"verdict\": f\"{verdict} - Human: {explanation}\"}\n",
    "            )\n",
    "            \n",
    "            events = graph.stream(human_command, config, stream_mode=\"values\")\n",
    "            for event in events:\n",
    "                if \"messages\" in event:\n",
    "                    event[\"messages\"][-1].pretty_print()\n",
    "\n",
    "# Uncomment to run\n",
    "run_interactive_bs_detector()"
   ]
  },
  {
   "cell_type": "markdown",
   "metadata": {},
   "source": [
    "## Key Concepts\n",
    "\n",
    "1. **`interrupt()` function**: Pauses execution and waits for human input\n",
    "2. **`Command` object**: Used to resume execution with data\n",
    "3. **Checkpointer**: Enables persistence across interrupts\n",
    "4. **Tool-based approach**: Human review is just another tool\n",
    "\n",
    "This approach allows:\n",
    "- Indefinite pausing (as long as checkpointer persists)\n",
    "- Clean separation between AI and human decisions\n",
    "- Full audit trail of interactions\n",
    "- Easy integration with UIs (web apps, etc.)"
   ]
  }
 ],
 "metadata": {
  "kernelspec": {
   "display_name": "Python 3 (ipykernel)",
   "language": "python",
   "name": "python3"
  },
  "language_info": {
   "codemirror_mode": {
    "name": "ipython",
    "version": 3
   },
   "file_extension": ".py",
   "mimetype": "text/x-python",
   "name": "python",
   "nbconvert_exporter": "python",
   "pygments_lexer": "ipython3",
   "version": "3.13.5"
  }
 },
 "nbformat": 4,
 "nbformat_minor": 4
}
