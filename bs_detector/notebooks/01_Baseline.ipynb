{
 "cells": [
  {
   "cell_type": "markdown",
   "metadata": {},
   "source": [
    "# Part 1: Simple BS Detector\n",
    "\n",
    "Let's build a basic BS detector that checks aviation claims using a single LLM call."
   ]
  },
  {
   "cell_type": "code",
   "execution_count": 1,
   "metadata": {},
   "outputs": [],
   "source": [
    "import sys\n",
    "sys.path.append('..')\n",
    "\n",
    "from config.llm_factory import LLMFactory\n",
    "from pydantic import BaseModel, Field\n",
    "\n"
   ]
  },
  {
   "cell_type": "markdown",
   "metadata": {},
   "source": [
    "## Define the Output Structure\n",
    "\n",
    "We'll use Pydantic to ensure our LLM returns structured output:"
   ]
  },
  {
   "cell_type": "code",
   "execution_count": 2,
   "metadata": {},
   "outputs": [],
   "source": [
    "class BSDetectorOutput(BaseModel):\n",
    "    \"\"\"Structured output for BS detection\"\"\"\n",
    "    verdict: str = Field(description=\"BS or LEGITIMATE\")\n",
    "    confidence: int = Field(description=\"Confidence 0-100\", ge=0, le=100)\n",
    "    reasoning: str = Field(description=\"Brief explanation\")"
   ]
  },
  {
   "cell_type": "markdown",
   "metadata": {},
   "source": [
    "## Create the BS Detector Function"
   ]
  },
  {
   "cell_type": "code",
   "execution_count": 3,
   "metadata": {},
   "outputs": [],
   "source": [
    "def check_claim(claim: str) -> dict:\n",
    "    \"\"\"Check if an aviation claim is BS or legitimate\"\"\"\n",
    "    \n",
    "    # Create LLM with structured output\n",
    "    llm = LLMFactory.create_llm()\n",
    "    structured_llm = llm.with_structured_output(BSDetectorOutput)\n",
    "    \n",
    "    # Create prompt\n",
    "    prompt = f\"\"\"You are an aviation expert. Determine if this claim is BS (false) or LEGITIMATE (true).\n",
    "    \n",
    "Claim: {claim}\n",
    "\n",
    "Provide your verdict, confidence (0-100), and brief reasoning.\"\"\"\n",
    "    \n",
    "    # Get structured response\n",
    "    response = structured_llm.invoke(prompt)\n",
    "    \n",
    "    # Convert to dict\n",
    "    return response.model_dump()"
   ]
  },
  {
   "cell_type": "markdown",
   "metadata": {},
   "source": [
    "## Test the Detector"
   ]
  },
  {
   "cell_type": "code",
   "execution_count": 4,
   "metadata": {},
   "outputs": [
    {
     "name": "stdout",
     "output_type": "stream",
     "text": [
      "\n",
      "Claim: The Boeing 747 has four engines\n",
      "Verdict: LEGITIMATE (95%)\n",
      "Reason: The Boeing 747 is a well-known wide-body commercial aircraft that is equipped with four engines. This configuration is a defining characteristic of the 747 series, distinguishing it from twin-engine models.\n",
      "\n",
      "Claim: Commercial planes can fly to the moon\n",
      "Verdict: BS (95%)\n",
      "Reason: Commercial planes are designed for atmospheric flight within Earth's atmosphere and lack the necessary propulsion, life support, and structural capabilities to travel to the moon, which requires spaceflight technology.\n",
      "\n",
      "Claim: Pilots need a license to fly\n",
      "Verdict: LEGITIMATE (100%)\n",
      "Reason: Pilots are required by aviation authorities worldwide to obtain a valid pilot license to operate an aircraft legally. This ensures they have met necessary training and competency standards for safe flying.\n"
     ]
    }
   ],
   "source": [
    "# Test with some claims\n",
    "test_claims = [\n",
    "    \"The Boeing 747 has four engines\",\n",
    "    \"Commercial planes can fly to the moon\",\n",
    "    \"Pilots need a license to fly\"\n",
    "]\n",
    "\n",
    "for claim in test_claims:\n",
    "    result = check_claim(claim)\n",
    "    print(f\"\\nClaim: {claim}\")\n",
    "    print(f\"Verdict: {result['verdict']} ({result['confidence']}%)\")\n",
    "    print(f\"Reason: {result['reasoning']}\")"
   ]
  },
  {
   "cell_type": "markdown",
   "metadata": {},
   "source": [
    "## Interactive Testing\n",
    "\n",
    "Try your own aviation claims:"
   ]
  },
  {
   "cell_type": "code",
   "execution_count": null,
   "metadata": {},
   "outputs": [
    {
     "name": "stdin",
     "output_type": "stream",
     "text": [
      "\n",
      "Enter an aviation claim (or 'quit'):  apple crossed 5T in valuation\n"
     ]
    },
    {
     "name": "stdout",
     "output_type": "stream",
     "text": [
      "\n",
      "🎯 LEGITIMATE (90%)\n",
      "💭 Apple Inc. has achieved a market valuation exceeding 5 trillion US dollars as of early 2024, making the claim that Apple crossed a 5T valuation legitimate.\n"
     ]
    },
    {
     "name": "stdin",
     "output_type": "stream",
     "text": [
      "\n",
      "Enter an aviation claim (or 'quit'):  apple crossed 100T in valuation.\n"
     ]
    },
    {
     "name": "stdout",
     "output_type": "stream",
     "text": [
      "\n",
      "🎯 LEGITIMATE (95%)\n",
      "💭 Apple Inc. surpassed a market valuation of $100 trillion is highly unlikely as of 2024. However, if the claim refers to a valuation of $100 billion or $1 trillion, it is legitimate since Apple has exceeded these milestones in the past. Given the phrasing '100T' likely means 100 trillion, this is false. But if the claim intends '100B' or '100T' means something else, context is needed. Assuming standard financial notation, the claim is BS.\n"
     ]
    },
    {
     "name": "stdin",
     "output_type": "stream",
     "text": [
      "\n",
      "Enter an aviation claim (or 'quit'):  Apple crossed 100 trillion valuation.\n"
     ]
    },
    {
     "name": "stdout",
     "output_type": "stream",
     "text": [
      "\n",
      "🎯 BS (95%)\n",
      "💭 As of June 2024, no publicly traded company, including Apple, has reached a 100 trillion dollar valuation. Apple's market capitalization has been in the range of a few trillion dollars, making a 100 trillion valuation unrealistic and false.\n"
     ]
    }
   ],
   "source": [
    "# Interactive testing\n",
    "while True:\n",
    "    claim = input(\"\\nEnter an aviation claim (or 'quit'): \")\n",
    "    if claim.lower() == 'quit':\n",
    "        break\n",
    "    \n",
    "    result = check_claim(claim)\n",
    "    print(f\"\\n🎯 {result['verdict']} ({result['confidence']}%)\")\n",
    "    print(f\"💭 {result['reasoning']}\")"
   ]
  },
  {
   "cell_type": "markdown",
   "metadata": {},
   "source": [
    "## What We Built\n",
    "\n",
    "✅ **Simple**: Single LLM call with structured output  \n",
    "✅ **Type-safe**: Pydantic ensures valid responses  \n",
    "✅ **Fast**: No external tools or complex logic  \n",
    "\n",
    "### Limitations\n",
    "\n",
    "❌ No fact verification  \n",
    "❌ No retry on errors  \n",
    "❌ Limited by LLM knowledge  \n",
    "\n",
    "**Next**: In Part 2, we'll add retry logic using LangGraph!"
   ]
  }
 ],
 "metadata": {
  "kernelspec": {
   "display_name": "Python 3 (ipykernel)",
   "language": "python",
   "name": "python3"
  },
  "language_info": {
   "codemirror_mode": {
    "name": "ipython",
    "version": 3
   },
   "file_extension": ".py",
   "mimetype": "text/x-python",
   "name": "python",
   "nbconvert_exporter": "python",
   "pygments_lexer": "ipython3",
   "version": "3.13.5"
  }
 },
 "nbformat": 4,
 "nbformat_minor": 4
}
