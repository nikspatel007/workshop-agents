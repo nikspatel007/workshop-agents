{
 "cells": [
  {
   "cell_type": "markdown",
   "metadata": {},
   "source": [
    "# 05: Adding Tools for Fact-Checking\n",
    "\n",
    "Let's add search capabilities to verify claims with real data."
   ]
  },
  {
   "cell_type": "code",
   "execution_count": 1,
   "metadata": {},
   "outputs": [
    {
     "name": "stdout",
     "output_type": "stream",
     "text": [
      "✅ Ready to add tools!\n"
     ]
    }
   ],
   "source": [
    "import sys\n",
    "from pathlib import Path\n",
    "sys.path.append(str(Path.cwd().parent))\n",
    "\n",
    "from config.llm_factory import LLMFactory\n",
    "from langchain_core.tools import tool\n",
    "from langchain_core.messages import SystemMessage, HumanMessage, AIMessage, ToolMessage\n",
    "from typing import List\n",
    "import json\n",
    "\n",
    "print(\"✅ Ready to add tools!\")"
   ]
  },
  {
   "cell_type": "markdown",
   "metadata": {},
   "source": [
    "## Create a Search Tool"
   ]
  },
  {
   "cell_type": "code",
   "execution_count": 2,
   "metadata": {},
   "outputs": [],
   "source": [
    "@tool\n",
    "def search_aviation_facts(query: str) -> str:\n",
    "    \"\"\"Search for aviation facts to verify claims.\"\"\"\n",
    "    # Mock database of facts\n",
    "    facts = {\n",
    "        \"boeing 747 engines\": \"The Boeing 747 has 4 engines, not 6\",\n",
    "        \"wright brothers\": \"The Wright brothers first flew on December 17, 1903\",\n",
    "        \"commercial altitude\": \"Commercial jets fly at 30,000-40,000 feet\",\n",
    "        \"747\": \"The Boeing 747 has 4 engines mounted on the wings\"\n",
    "    }\n",
    "    \n",
    "    query_lower = query.lower()\n",
    "    for key, fact in facts.items():\n",
    "        if key in query_lower:\n",
    "            return fact\n",
    "    return \"No specific information found.\"\n",
    "\n",
    "tools = [search_aviation_facts]"
   ]
  },
  {
   "cell_type": "markdown",
   "metadata": {},
   "source": [
    "## BS Detector with Tools"
   ]
  },
  {
   "cell_type": "code",
   "execution_count": 3,
   "metadata": {},
   "outputs": [],
   "source": [
    "def check_claim_with_simple_tools(claim: str) -> dict:\n",
    "    \"\"\"Check claim using tools when needed\"\"\"\n",
    "    llm = LLMFactory.create_llm()\n",
    "    llm_with_tools = llm.bind_tools(tools)\n",
    "    \n",
    "    messages = [\n",
    "        SystemMessage(content=\"\"\"You are an aviation expert. \n",
    "        Use the search tool to verify factual claims.\n",
    "        Respond with BS or LEGITIMATE based on evidence.\"\"\"),\n",
    "        HumanMessage(content=f\"Check this claim: {claim}\")\n",
    "    ]\n",
    "    \n",
    "    # First LLM call - might request tool use\n",
    "    response = llm_with_tools.invoke(messages)\n",
    "    messages.append(response)\n",
    "    \n",
    "    # If tool was called, execute it\n",
    "    if response.tool_calls:\n",
    "        for tool_call in response.tool_calls:\n",
    "            # Execute the tool\n",
    "            if tool_call[\"name\"] == \"search_aviation_facts\":\n",
    "                result = search_aviation_facts.invoke(tool_call[\"args\"])\n",
    "                # Add tool result to messages\n",
    "                tool_msg = ToolMessage(\n",
    "                    content=result,\n",
    "                    tool_call_id=tool_call[\"id\"]\n",
    "                )\n",
    "                messages.append(tool_msg)\n",
    "        \n",
    "        # Get final response after tool use\n",
    "        final_response = llm_with_tools.invoke(messages)\n",
    "        content = final_response.content\n",
    "    else:\n",
    "        content = response.content\n",
    "    \n",
    "    # Parse response\n",
    "    verdict = \"BS\" if \"BS\" in content.upper() else \"LEGITIMATE\"\n",
    "    \n",
    "    return {\n",
    "        \"verdict\": verdict,\n",
    "        \"confidence\": 85 if response.tool_calls else 70,\n",
    "        \"reasoning\": content,\n",
    "        \"used_tools\": bool(response.tool_calls)\n",
    "    }"
   ]
  },
  {
   "cell_type": "markdown",
   "metadata": {},
   "source": [
    "## Test the Tool-Enhanced Detector"
   ]
  },
  {
   "cell_type": "code",
   "execution_count": 4,
   "metadata": {},
   "outputs": [
    {
     "name": "stdout",
     "output_type": "stream",
     "text": [
      "\n",
      "🔍 Checking: The Boeing 747 has six engines\n",
      "📊 Verdict: BS (85%)\n",
      "🔧 Used tools: Yes\n",
      "💭 The claim that the Boeing 747 has six engines is BS. The Boeing 747 actually has four engines....\n",
      "\n",
      "🔍 Checking: The Wright brothers first flew in 1903\n",
      "📊 Verdict: LEGITIMATE (85%)\n",
      "🔧 Used tools: Yes\n",
      "💭 LEGITIMATE. The Wright brothers first flew on December 17, 1903....\n",
      "\n",
      "🔍 Checking: Commercial planes fly at 50,000 feet\n",
      "📊 Verdict: LEGITIMATE (85%)\n",
      "🔧 Used tools: Yes\n",
      "💭 The claim that commercial planes fly at 50,000 feet is generally not accurate. Typical cruising altitudes for commercial airliners are usually between...\n"
     ]
    }
   ],
   "source": [
    "# Test claims\n",
    "test_claims = [\n",
    "    \"The Boeing 747 has six engines\",\n",
    "    \"The Wright brothers first flew in 1903\",\n",
    "    \"Commercial planes fly at 50,000 feet\"\n",
    "]\n",
    "\n",
    "for claim in test_claims:\n",
    "    print(f\"\\n🔍 Checking: {claim}\")\n",
    "    result = check_claim_with_simple_tools(claim)\n",
    "    \n",
    "    print(f\"📊 Verdict: {result['verdict']} ({result['confidence']}%)\")\n",
    "    print(f\"🔧 Used tools: {'Yes' if result['used_tools'] else 'No'}\")\n",
    "    print(f\"💭 {result['reasoning'][:150]}...\")"
   ]
  },
  {
   "cell_type": "markdown",
   "metadata": {},
   "source": [
    "## Use the Module Version\n",
    "\n",
    "For more complex scenarios, use the full implementation:"
   ]
  },
  {
   "cell_type": "code",
   "execution_count": 5,
   "metadata": {},
   "outputs": [
    {
     "name": "stderr",
     "output_type": "stream",
     "text": [
      "/Users/nikpatel/Documents/GitHub/workshop-agents/.venv/lib/python3.13/site-packages/langchain_community/utilities/duckduckgo_search.py:63: RuntimeWarning: This package (`duckduckgo_search`) has been renamed to `ddgs`! Use `pip install ddgs` instead.\n",
      "  with DDGS() as ddgs:\n"
     ]
    },
    {
     "name": "stdout",
     "output_type": "stream",
     "text": [
      "Claim: SpaceX launched 5 rockets yesterday\n",
      "Verdict: BS (90%)\n",
      "Used search: True\n"
     ]
    }
   ],
   "source": [
    "from modules.m5_tools import check_claim_with_tools\n",
    "\n",
    "# This version includes:\n",
    "# - Web search via DuckDuckGo\n",
    "# - Multi-agent routing\n",
    "# - Better error handling\n",
    "\n",
    "claim = \"SpaceX launched 5 rockets yesterday\"\n",
    "result = check_claim_with_tools(claim)\n",
    "\n",
    "print(f\"Claim: {claim}\")\n",
    "print(f\"Verdict: {result['verdict']} ({result['confidence']}%)\")\n",
    "print(f\"Used search: {result.get('used_search', False)}\")"
   ]
  },
  {
   "cell_type": "markdown",
   "metadata": {},
   "source": [
    "## Key Takeaways\n",
    "\n",
    "1. **Tools enhance accuracy** - Search provides evidence\n",
    "2. **LLM decides when to search** - Not every claim needs it\n",
    "3. **Higher confidence** - Evidence-based verdicts\n",
    "4. **Proper message flow** - Tool calls → Tool results → Final answer\n",
    "\n",
    "Next: Add human-in-the-loop for uncertain cases!"
   ]
  }
 ],
 "metadata": {
  "kernelspec": {
   "display_name": "Python 3 (ipykernel)",
   "language": "python",
   "name": "python3"
  },
  "language_info": {
   "codemirror_mode": {
    "name": "ipython",
    "version": 3
   },
   "file_extension": ".py",
   "mimetype": "text/x-python",
   "name": "python",
   "nbconvert_exporter": "python",
   "pygments_lexer": "ipython3",
   "version": "3.13.5"
  }
 },
 "nbformat": 4,
 "nbformat_minor": 4
}
