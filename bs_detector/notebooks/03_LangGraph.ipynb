{
 "cells": [
  {
   "cell_type": "markdown",
   "metadata": {},
   "source": [
    "# Part 2: Add LangGraph for Retry Logic\n",
    "\n",
    "This tutorial builds on Part 1 by converting our BS detector to use LangGraph, which adds retry capabilities."
   ]
  },
  {
   "cell_type": "code",
   "execution_count": null,
   "metadata": {},
   "outputs": [],
   "source": [
    "import sys\n",
    "from pathlib import Path\n",
    "sys.path.append(str(Path.cwd().parent))\n",
    "\n",
    "from typing import TypedDict,Optional, List\n",
    "from modules.m3_langgraph import check_claim_with_graph, create_bs_detector_graph\n",
    "from config.llm_factory import LLMFactory\n",
    "\n",
    "from langgraph.graph import StateGraph, START, END\n",
    "\n",
    "print(\"✅ LangGraph BS detector loaded!\")"
   ]
  },
  {
   "cell_type": "markdown",
   "metadata": {},
   "source": [
    "## Define the State\n",
    "\n",
    "State is what gets passed between nodes in our graph:"
   ]
  },
  {
   "cell_type": "code",
   "execution_count": null,
   "metadata": {},
   "outputs": [],
   "source": [
    "class State(TypedDict):\n",
    "    # Input\n",
    "    claim: str\n",
    "    # Processing\n",
    "    retry_count: int\n",
    "    # Output\n",
    "    verdict: Optional[str]\n",
    "    confidence: Optional[int]\n",
    "    reasoning: Optional[str]\n",
    "    error: Optional[str]"
   ]
  },
  {
   "cell_type": "markdown",
   "metadata": {},
   "source": [
    "## Create Node Functions\n",
    "\n",
    "Each node is a function that takes state and returns updates:"
   ]
  },
  {
   "cell_type": "code",
   "execution_count": null,
   "metadata": {},
   "outputs": [],
   "source": [
    "def detect_bs(state: State):\n",
    "    \"\"\"Main detection node - calls LLM\"\"\"\n",
    "    try:\n",
    "        # Reuse our detector from Part 1\n",
    "        from pydantic import BaseModel, Field\n",
    "        \n",
    "        class BSDetectorOutput(BaseModel):\n",
    "            verdict: str = Field(description=\"BS or LEGITIMATE\")\n",
    "            confidence: int = Field(description=\"Confidence 0-100\", ge=0, le=100)\n",
    "            reasoning: str = Field(description=\"Brief explanation\")\n",
    "        \n",
    "        llm = LLMFactory.create_llm()\n",
    "        structured_llm = llm.with_structured_output(BSDetectorOutput)\n",
    "        \n",
    "        prompt = f\"\"\"You are an aviation expert. Determine if this claim is BS (false) or LEGITIMATE (true).\n",
    "        \n",
    "Claim: {state['claim']}\n",
    "\n",
    "Provide your verdict, confidence (0-100), and brief reasoning.\"\"\"\n",
    "        \n",
    "        response = structured_llm.invoke(prompt)\n",
    "        \n",
    "        return {\n",
    "            \"verdict\": response.verdict,\n",
    "            \"confidence\": response.confidence,\n",
    "            \"reasoning\": response.reasoning\n",
    "        }\n",
    "    except Exception as e:\n",
    "        return {\"error\": str(e)}\n",
    "\n",
    "def retry(state: State):\n",
    "    \"\"\"Increment retry counter\"\"\"\n",
    "    print(f\"Retrying... (attempt {state['retry_count'] + 1})\")\n",
    "    return {\"retry_count\": state[\"retry_count\"] + 1}"
   ]
  },
  {
   "cell_type": "markdown",
   "metadata": {},
   "source": [
    "## Build the Graph"
   ]
  },
  {
   "cell_type": "code",
   "execution_count": null,
   "metadata": {},
   "outputs": [],
   "source": [
    "# Create graph\n",
    "graph_builder = StateGraph(State)\n",
    "\n",
    "# Add nodes\n",
    "graph_builder.add_node(\"detect\", detect_bs)\n",
    "graph_builder.add_node(\"retry\", retry)\n",
    "\n",
    "# Add entry point\n",
    "graph_builder.set_entry_point(\"detect\")\n",
    "\n",
    "# Add conditional routing\n",
    "def route_detection(state: State) -> str:\n",
    "    \"\"\"Decide next step based on detection result\"\"\"\n",
    "    if state.get(\"verdict\"):  # Success\n",
    "        return \"end\"\n",
    "    elif state.get(\"retry_count\", 0) < 2:  # Can retry\n",
    "        return \"retry\"\n",
    "    else:  # Max retries reached\n",
    "        return \"end\"\n",
    "\n",
    "graph_builder.add_conditional_edges(\n",
    "    \"detect\",\n",
    "    route_detection,\n",
    "    {\"retry\": \"retry\", \"end\": END}\n",
    ")\n",
    "\n",
    "# Connect retry back to detect\n",
    "graph_builder.add_edge(\"retry\", \"detect\")\n",
    "\n",
    "# Compile\n",
    "graph = graph_builder.compile()"
   ]
  },
  {
   "cell_type": "markdown",
   "metadata": {},
   "source": [
    "## Visualize the Graph"
   ]
  },
  {
   "cell_type": "code",
   "execution_count": 13,
   "metadata": {},
   "outputs": [
    {
     "data": {
      "image/png": "[encoded data removed]",
      "text/plain": [
       "<IPython.core.display.Image object>"
      ]
     },
     "metadata": {},
     "output_type": "display_data"
    }
   ],
   "source": [
    "# Display the graph structure\n",
    "try:\n",
    "    from IPython.display import Image, display\n",
    "    display(Image(graph.get_graph().draw_mermaid_png()))\n",
    "except:\n",
    "    # Fallback to text\n",
    "    print(graph.get_graph().draw_mermaid())"
   ]
  },
  {
   "cell_type": "markdown",
   "metadata": {},
   "source": [
    "## Test the Graph"
   ]
  },
  {
   "cell_type": "code",
   "execution_count": 14,
   "metadata": {},
   "outputs": [
    {
     "name": "stdout",
     "output_type": "stream",
     "text": [
      "\n",
      "Checking: The Boeing 747 has four engines\n",
      "✅ LEGITIMATE (95%)\n",
      "   The Boeing 747 is a large, long-range wide-body airliner known for having four engines mounted under its wings. This is a well-documented and widely recognized characteristic of the aircraft.\n",
      "\n",
      "Checking: Helicopters can fly to space\n",
      "✅ BS (95%)\n",
      "   Helicopters rely on air density to generate lift with their rotors. Space is a near vacuum with no air to provide lift, and current helicopter technology cannot operate outside Earth's atmosphere. Therefore, helicopters cannot fly to space.\n"
     ]
    }
   ],
   "source": [
    "# Function to check claims with retry\n",
    "def check_claim_with_retry(claim: str) -> dict:\n",
    "    \"\"\"Check claim using LangGraph with retry\"\"\"\n",
    "    initial_state = {\n",
    "        \"claim\": claim,\n",
    "        \"retry_count\": 0\n",
    "    }\n",
    "    \n",
    "    result = graph.invoke(initial_state)\n",
    "    return result\n",
    "\n",
    "# Test it\n",
    "test_claims = [\n",
    "    \"The Boeing 747 has four engines\",\n",
    "    \"Helicopters can fly to space\"\n",
    "]\n",
    "\n",
    "for claim in test_claims:\n",
    "    print(f\"\\nChecking: {claim}\")\n",
    "    result = check_claim_with_retry(claim)\n",
    "    \n",
    "    if result.get(\"verdict\"):\n",
    "        print(f\"✅ {result['verdict']} ({result['confidence']}%)\")\n",
    "        print(f\"   {result['reasoning']}\")\n",
    "    else:\n",
    "        print(f\"❌ Error: {result.get('error', 'Unknown error')}\")"
   ]
  },
  {
   "cell_type": "markdown",
   "metadata": {},
   "source": [
    "## Interactive Mode"
   ]
  },
  {
   "cell_type": "code",
   "execution_count": null,
   "metadata": {},
   "outputs": [
    {
     "name": "stdout",
     "output_type": "stream",
     "text": [
      "BS Detector with Retry (type 'quit' to exit)\n",
      "\n"
     ]
    },
    {
     "name": "stdin",
     "output_type": "stream",
     "text": [
      "Enter claim:  Newton created 5 music album\n"
     ]
    },
    {
     "name": "stdout",
     "output_type": "stream",
     "text": [
      "\n",
      "🎯 BS (90%)\n",
      "💭 Isaac Newton was a physicist and mathematician known for his work on gravity and motion, not a musician. There is no historical evidence or record of Newton creating any music albums.\n",
      "\n"
     ]
    },
    {
     "name": "stdin",
     "output_type": "stream",
     "text": [
      "Enter claim:  q\n"
     ]
    },
    {
     "name": "stdout",
     "output_type": "stream",
     "text": [
      "\n",
      "🎯 LEGITIMATE (90%)\n",
      "💭 The claim 'q' is too vague or incomplete to assess accurately; however, since it does not contain any obvious false information or contradictory aviation facts, it is considered LEGITIMATE for the purpose of this evaluation.\n",
      "\n"
     ]
    }
   ],
   "source": [
    "# Interactive testing with retry capability\n",
    "print(\"BS Detector with Retry (type 'quit' to exit)\\n\")\n",
    "\n",
    "while True:\n",
    "    claim = input(\"Enter claim: \")\n",
    "    if claim.lower() == 'quit':\n",
    "        break\n",
    "    \n",
    "    result = check_claim_with_retry(claim)\n",
    "    \n",
    "    if result.get(\"verdict\"):\n",
    "        print(f\"\\n🎯 {result['verdict']} ({result['confidence']}%)\")\n",
    "        print(f\"💭 {result['reasoning']}\\n\")\n",
    "    else:\n",
    "        print(f\"\\n❌ Failed after retries\\n\")"
   ]
  },
  {
   "cell_type": "markdown",
   "metadata": {},
   "source": [
    "## What We Added\n",
    "\n",
    "✅ **Retry Logic**: Automatically retries on failure  \n",
    "✅ **State Management**: Clean separation of data flow  \n",
    "✅ **Visual Graph**: See the flow of execution  \n",
    "✅ **Error Handling**: Graceful failure after max retries  \n",
    "\n",
    "### Key Concepts\n",
    "\n",
    "1. **State**: Shared data between nodes\n",
    "2. **Nodes**: Functions that process state\n",
    "3. **Edges**: Connections between nodes\n",
    "4. **Routing**: Conditional flow based on state\n",
    "\n",
    "**Next**: In Part 3, we'll add tools for fact-checking!"
   ]
  }
 ],
 "metadata": {
  "kernelspec": {
   "display_name": "Python 3 (ipykernel)",
   "language": "python",
   "name": "python3"
  },
  "language_info": {
   "codemirror_mode": {
    "name": "ipython",
    "version": 3
   },
   "file_extension": ".py",
   "mimetype": "text/x-python",
   "name": "python",
   "nbconvert_exporter": "python",
   "pygments_lexer": "ipython3",
   "version": "3.13.5"
  }
 },
 "nbformat": 4,
 "nbformat_minor": 4
}
