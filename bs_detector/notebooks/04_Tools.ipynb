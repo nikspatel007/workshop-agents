{
 "cells": [
  {
   "cell_type": "markdown",
   "metadata": {},
   "source": [
    "# 04: Tool Integration - Multi-Agent System with Web Search\n",
    "\n",
    "## The Architecture\n",
    "\n",
    "We're building on our multi-agent system from Module 3:\n",
    "- **Router**: Analyzes claims and routes to specialists\n",
    "- **Technical Expert**: Handles technology/engineering claims\n",
    "- **Historical Expert**: Handles historical facts\n",
    "- **Current Events Expert**: NOW WITH WEB SEARCH TOOLS!\n",
    "- **General Expert**: Handles everything else\n",
    "\n",
    "The key insight: Only the Current Events Expert needs tools!"
   ]
  },
  {
   "cell_type": "markdown",
   "metadata": {},
   "source": [
    "## Setup"
   ]
  },
  {
   "cell_type": "code",
   "execution_count": 9,
   "metadata": {},
   "outputs": [
    {
     "name": "stdout",
     "output_type": "stream",
     "text": [
      "✅ Ready! Our multi-agent system can route claims and use tools when needed.\n"
     ]
    }
   ],
   "source": [
    "import sys\n",
    "from pathlib import Path\n",
    "sys.path.append(str(Path.cwd().parent))\n",
    "\n",
    "# Import our tool-enhanced multi-agent BS detector\n",
    "from modules.m4_tools import (\n",
    "    check_claim_with_tools,\n",
    "    create_tool_enhanced_bs_detector,\n",
    "    ToolEnhancedState\n",
    ")\n",
    "from config.llm_factory import LLMFactory\n",
    "\n",
    "print(\"✅ Ready! Our multi-agent system can route claims and use tools when needed.\")"
   ]
  },
  {
   "cell_type": "markdown",
   "metadata": {},
   "source": [
    "## How It Works: LLM Agency\n",
    "\n",
    "Instead of hardcoded rules, we give the LLM a tool and let it decide:"
   ]
  },
  {
   "cell_type": "code",
   "execution_count": 10,
   "metadata": {},
   "outputs": [
    {
     "name": "stdout",
     "output_type": "stream",
     "text": [
      "📅 Today's date: July 22, 2025\n",
      "\n",
      "When you say 'yesterday', the agent knows you mean the actual yesterday!\n",
      "This is crucial for verifying current events correctly.\n",
      "\n"
     ]
    },
    {
     "name": "stderr",
     "output_type": "stream",
     "text": [
      "/Users/nikpatel/Documents/GitHub/workshop-agents/.venv/lib/python3.13/site-packages/langchain_community/utilities/duckduckgo_search.py:63: RuntimeWarning: This package (`duckduckgo_search`) has been renamed to `ddgs`! Use `pip install ddgs` instead.\n",
      "  with DDGS() as ddgs:\n"
     ]
    },
    {
     "name": "stdout",
     "output_type": "stream",
     "text": [
      "Claim: 'Bitcoin reached $100,000 yesterday'\n",
      "Used search: Yes\n",
      "Search query: Bitcoin price on July 21, 2025\n",
      "Notice how it includes the specific date!\n"
     ]
    }
   ],
   "source": [
    "# Demonstrate date context awareness\n",
    "from datetime import datetime\n",
    "\n",
    "print(f\"📅 Today's date: {datetime.now().strftime('%B %d, %Y')}\")\n",
    "print(\"\\nWhen you say 'yesterday', the agent knows you mean the actual yesterday!\")\n",
    "print(\"This is crucial for verifying current events correctly.\\n\")\n",
    "\n",
    "# Test a time-sensitive claim\n",
    "result = check_claim_with_tools(\"Bitcoin reached $100,000 yesterday\")\n",
    "\n",
    "print(f\"Claim: 'Bitcoin reached $100,000 yesterday'\")\n",
    "print(f\"Used search: {'Yes' if result['used_search'] else 'No'}\")\n",
    "\n",
    "# Show the actual search query used\n",
    "if result.get('search_results') and len(result['search_results']) > 0:\n",
    "    print(f\"Search query: {result['search_results'][0].query}\")\n",
    "    print(\"Notice how it includes the specific date!\")"
   ]
  },
  {
   "cell_type": "code",
   "execution_count": 11,
   "metadata": {},
   "outputs": [
    {
     "data": {
      "text/html": [
       "\n",
       "<div style=\"text-align: center; padding: 20px;\">\n",
       "    <h3>🔄 Multi-Agent Tool Integration Architecture</h3>\n",
       "    <div style=\"background-color: #f0f0f0; padding: 20px; border-radius: 10px;\">\n",
       "        <p><strong>Claim Input</strong> → <strong>Router</strong></p>\n",
       "        <p>↙ ↓ ↓ ↘</p>\n",
       "        <p>Technical | Historical | <span style=\"color: blue;\">Current Events</span> | General</p>\n",
       "        <p>Expert | Expert | <span style=\"color: blue;\">Expert (+ Tools)</span> | Expert</p>\n",
       "        <p>↓ ↓ ↓ ↓</p>\n",
       "        <p><strong>Final Verdict</strong></p>\n",
       "    </div>\n",
       "    <p><em>Only the Current Events Expert has web search tools!</em></p>\n",
       "</div>\n"
      ],
      "text/plain": [
       "<IPython.core.display.HTML object>"
      ]
     },
     "metadata": {},
     "output_type": "display_data"
    },
    {
     "data": {
      "text/html": [
       "<img src=\"https://mermaid.ink/img/CmdyYXBoIFRECiAgICBBW0NsYWltIElucHV0XSAtLT4gUntSb3V0ZXJ9CgogICAgUiAtLT58VGVjaG5pY2FsfCBURVtUZWNobmljYWwgRXhwZXJ0XQogICAgUiAtLT58SGlzdG9yaWNhbHwgSEVbSGlzdG9yaWNhbCBFeHBlcnRdCiAgICBSIC0tPnxDdXJyZW50IEV2ZW50fCBDRVtDdXJyZW50IEV2ZW50cyBFeHBlcnRdCiAgICBSIC0tPnxHZW5lcmFsfCBHRVtHZW5lcmFsIEV4cGVydF0KCiAgICBDRSAtLT4gVHtOZWVkIE1vcmUgSW5mbz99CiAgICBUIC0tPnxZZXN8IFNb8J+UjSBXZWIgU2VhcmNoIFRvb2xdCiAgICBUIC0tPnxOb3wgQ0UyW0RpcmVjdCBBbmFseXNpc10KCiAgICBTIC0tPiBDRTNbQW5hbHl6ZSB3aXRoIEV2aWRlbmNlXQoKICAgIFRFIC0tPiBWW1ZlcmRpY3RdCiAgICBIRSAtLT4gVgogICAgQ0UyIC0tPiBWCiAgICBDRTMgLS0+IFYKICAgIEdFIC0tPiBWCgogICAgc3R5bGUgUiBmaWxsOiNmOWYsc3Ryb2tlOiMzMzMsc3Ryb2tlLXdpZHRoOjJweAogICAgc3R5bGUgQ0UgZmlsbDojYmJmLHN0cm9rZTojMzMzLHN0cm9rZS13aWR0aDoycHgKICAgIHN0eWxlIFMgZmlsbDojZmJmLHN0cm9rZTojMzMzLHN0cm9rZS13aWR0aDoycHgKICAgIHN0eWxlIFYgZmlsbDojYmZiLHN0cm9rZTojMzMzLHN0cm9rZS13aWR0aDoycHgK?type=png\"/>"
      ],
      "text/plain": [
       "<IPython.core.display.Image object>"
      ]
     },
     "metadata": {},
     "output_type": "display_data"
    }
   ],
   "source": [
    "import base64\n",
    "from IPython.display import Image, HTML, display\n",
    "\n",
    "# Create a mermaid diagram showing the multi-agent architecture\n",
    "mermaid_diagram = \"\"\"\n",
    "graph TD\n",
    "    A[Claim Input] --> R{Router}\n",
    "    \n",
    "    R -->|Technical| TE[Technical Expert]\n",
    "    R -->|Historical| HE[Historical Expert]\n",
    "    R -->|Current Event| CE[Current Events Expert]\n",
    "    R -->|General| GE[General Expert]\n",
    "    \n",
    "    CE --> T{Need More Info?}\n",
    "    T -->|Yes| S[🔍 Web Search Tool]\n",
    "    T -->|No| CE2[Direct Analysis]\n",
    "    \n",
    "    S --> CE3[Analyze with Evidence]\n",
    "    \n",
    "    TE --> V[Verdict]\n",
    "    HE --> V\n",
    "    CE2 --> V\n",
    "    CE3 --> V\n",
    "    GE --> V\n",
    "    \n",
    "    style R fill:#f9f,stroke:#333,stroke-width:2px\n",
    "    style CE fill:#bbf,stroke:#333,stroke-width:2px\n",
    "    style S fill:#fbf,stroke:#333,stroke-width:2px\n",
    "    style V fill:#bfb,stroke:#333,stroke-width:2px\n",
    "\"\"\"\n",
    "\n",
    "# Create a simple HTML visualization since mermaid.ink might have issues\n",
    "html_content = f\"\"\"\n",
    "<div style=\"text-align: center; padding: 20px;\">\n",
    "    <h3>🔄 Multi-Agent Tool Integration Architecture</h3>\n",
    "    <div style=\"background-color: #f0f0f0; padding: 20px; border-radius: 10px;\">\n",
    "        <p><strong>Claim Input</strong> → <strong>Router</strong></p>\n",
    "        <p>↙ ↓ ↓ ↘</p>\n",
    "        <p>Technical | Historical | <span style=\"color: blue;\">Current Events</span> | General</p>\n",
    "        <p>Expert | Expert | <span style=\"color: blue;\">Expert (+ Tools)</span> | Expert</p>\n",
    "        <p>↓ ↓ ↓ ↓</p>\n",
    "        <p><strong>Final Verdict</strong></p>\n",
    "    </div>\n",
    "    <p><em>Only the Current Events Expert has web search tools!</em></p>\n",
    "</div>\n",
    "\"\"\"\n",
    "\n",
    "display(HTML(html_content))\n",
    "\n",
    "# Try to render mermaid diagram too\n",
    "def render_mermaid_diagram(graph_def):\n",
    "    graph_bytes = graph_def.encode(\"utf-8\")\n",
    "    base64_string = base64.b64encode(graph_bytes).decode(\"ascii\")\n",
    "    image_url = f\"https://mermaid.ink/img/{base64_string}?type=png\"\n",
    "    return Image(url=image_url)\n",
    "\n",
    "try:\n",
    "    display(render_mermaid_diagram(mermaid_diagram))\n",
    "except:\n",
    "    print(\"(Mermaid diagram rendering failed, see HTML visualization above)\")"
   ]
  },
  {
   "cell_type": "code",
   "execution_count": 12,
   "metadata": {},
   "outputs": [
    {
     "name": "stdout",
     "output_type": "stream",
     "text": [
      "\n",
      "📊 Multi-Agent Graph Structure:\n",
      "1. Router analyzes claim type\n",
      "2. Routes to appropriate expert:\n",
      "   - Technical Expert (no tools)\n",
      "   - Historical Expert (no tools)\n",
      "   - Current Events Expert (with web search!)\n",
      "   - General Expert (no tools)\n",
      "\n",
      "Only the Current Events Expert has tools - smart specialization!\n"
     ]
    }
   ],
   "source": [
    "# Show the multi-agent routing in action\n",
    "# Import the function if not already imported\n",
    "try:\n",
    "    app = create_tool_enhanced_bs_detector()\n",
    "except NameError:\n",
    "    from modules.m4_tools import create_tool_enhanced_bs_detector\n",
    "    app = create_tool_enhanced_bs_detector()\n",
    "    \n",
    "print(\"\\n📊 Multi-Agent Graph Structure:\")\n",
    "print(\"1. Router analyzes claim type\")\n",
    "print(\"2. Routes to appropriate expert:\")\n",
    "print(\"   - Technical Expert (no tools)\")\n",
    "print(\"   - Historical Expert (no tools)\")\n",
    "print(\"   - Current Events Expert (with web search!)\")\n",
    "print(\"   - General Expert (no tools)\")\n",
    "print(\"\\nOnly the Current Events Expert has tools - smart specialization!\")"
   ]
  },
  {
   "cell_type": "code",
   "execution_count": 13,
   "metadata": {},
   "outputs": [
    {
     "name": "stdout",
     "output_type": "stream",
     "text": [
      "🎬 Watch Multi-Agent Routing and Tool Usage:\n",
      "\n",
      "\n",
      "======================================================================\n",
      "Claim: \"Water boils at 100 degrees Celsius\"\n",
      "----------------------------------------------------------------------\n",
      "1️⃣ Router Decision: general claim\n",
      "2️⃣ Assigned to: General Expert\n",
      "3️⃣ Tool Usage: ⚡ NO SEARCH\n",
      "\n",
      "Verdict: LEGITIMATE (95%)\n",
      "\n",
      "Reasoning: Under standard atmospheric pressure (1 atmosphere or 101.3 kPa), pure water boils at 100 degrees Celsius. This is a well-established scientific fact t...\n",
      "\n",
      "======================================================================\n",
      "Claim: \"SpaceX launched 5 rockets yesterday\"\n",
      "----------------------------------------------------------------------\n"
     ]
    },
    {
     "name": "stderr",
     "output_type": "stream",
     "text": [
      "/Users/nikpatel/Documents/GitHub/workshop-agents/.venv/lib/python3.13/site-packages/langchain_community/utilities/duckduckgo_search.py:63: RuntimeWarning: This package (`duckduckgo_search`) has been renamed to `ddgs`! Use `pip install ddgs` instead.\n",
      "  with DDGS() as ddgs:\n"
     ]
    },
    {
     "name": "stdout",
     "output_type": "stream",
     "text": [
      "1️⃣ Router Decision: current_event claim\n",
      "2️⃣ Assigned to: Current Events Expert (with tools)\n",
      "3️⃣ Tool Usage: 🔍 SEARCHED\n",
      "\n",
      "Verdict: BS (90%)\n",
      "Tools used: search_for_information\n",
      "\n",
      "Reasoning: While SpaceX is known for having a high launch cadence and is the world's dominant space launch provider as of 2025, launching 5 rockets in a single d...\n",
      "\n",
      "======================================================================\n",
      "Claim: \"The Boeing 787 uses composite materials\"\n",
      "----------------------------------------------------------------------\n",
      "1️⃣ Router Decision: technical claim\n",
      "2️⃣ Assigned to: Technical Expert\n",
      "3️⃣ Tool Usage: ⚡ NO SEARCH\n",
      "\n",
      "Verdict: LEGITIMATE (100%)\n",
      "\n",
      "Reasoning: The Boeing 787 Dreamliner is well-known for its extensive use of composite materials in its airframe. Approximately 50% of the primary structure, incl...\n",
      "\n",
      "======================================================================\n",
      "Claim: \"Tesla's stock price is above $300 today\"\n",
      "----------------------------------------------------------------------\n"
     ]
    },
    {
     "name": "stderr",
     "output_type": "stream",
     "text": [
      "/Users/nikpatel/Documents/GitHub/workshop-agents/.venv/lib/python3.13/site-packages/langchain_community/utilities/duckduckgo_search.py:63: RuntimeWarning: This package (`duckduckgo_search`) has been renamed to `ddgs`! Use `pip install ddgs` instead.\n",
      "  with DDGS() as ddgs:\n"
     ]
    },
    {
     "name": "stdout",
     "output_type": "stream",
     "text": [
      "1️⃣ Router Decision: current_event claim\n",
      "2️⃣ Assigned to: Current Events Expert (with tools)\n",
      "3️⃣ Tool Usage: 🔍 SEARCHED\n",
      "\n",
      "Verdict: BS (85%)\n",
      "Tools used: search_for_information\n",
      "\n",
      "Reasoning: The search did not return a specific, verifiable figure for Tesla's stock price on July 22, 2025. Given that Tesla's stock price has historically fluc...\n",
      "\n",
      "======================================================================\n",
      "Claim: \"The moon landing was in 1969\"\n",
      "----------------------------------------------------------------------\n",
      "1️⃣ Router Decision: historical claim\n",
      "2️⃣ Assigned to: Historical Expert\n",
      "3️⃣ Tool Usage: ⚡ NO SEARCH\n",
      "\n",
      "Verdict: LEGITIMATE (100%)\n",
      "\n",
      "Reasoning: The claim that the moon landing occurred in 1969 is historically accurate. The first successful manned moon landing was conducted by NASA's Apollo 11 ...\n"
     ]
    }
   ],
   "source": [
    "# Test various claims to see routing and tool usage\n",
    "test_claims = [\n",
    "    \"Water boils at 100 degrees Celsius\",\n",
    "    \"SpaceX launched 5 rockets yesterday\",\n",
    "    \"The Boeing 787 uses composite materials\",\n",
    "    \"Tesla's stock price is above $300 today\",\n",
    "    \"The moon landing was in 1969\"\n",
    "]\n",
    "\n",
    "print(\"🎬 Watch Multi-Agent Routing and Tool Usage:\\n\")\n",
    "\n",
    "for claim in test_claims:\n",
    "    print(f\"\\n{'='*70}\")\n",
    "    print(f\"Claim: \\\"{claim}\\\"\")\n",
    "    print(\"-\" * 70)\n",
    "    \n",
    "    # Use the multi-agent version with tools\n",
    "    result = check_claim_with_tools(claim)\n",
    "    \n",
    "    # Show routing info if available\n",
    "    if result.get('claim_type'):\n",
    "        print(f\"1️⃣ Router Decision: {result['claim_type']} claim\")\n",
    "        print(f\"2️⃣ Assigned to: {result['analyzing_agent']}\")\n",
    "    else:\n",
    "        print(\"⚠️  No routing info - using direct analysis\")\n",
    "        \n",
    "    print(f\"3️⃣ Tool Usage: {'🔍 SEARCHED' if result['used_search'] else '⚡ NO SEARCH'}\")\n",
    "    print(f\"\\nVerdict: {result['verdict']} ({result['confidence']}%)\")\n",
    "    \n",
    "    if result['used_search'] and result.get('tools_used'):\n",
    "        print(f\"Tools used: {', '.join(result['tools_used'])}\")\n",
    "    \n",
    "    # Show first part of reasoning\n",
    "    if result.get('reasoning'):\n",
    "        print(f\"\\nReasoning: {result['reasoning'][:150]}...\")"
   ]
  },
  {
   "cell_type": "markdown",
   "metadata": {},
   "source": [
    "## Deep Dive: A Recent Event"
   ]
  },
  {
   "cell_type": "code",
   "execution_count": 14,
   "metadata": {},
   "outputs": [
    {
     "name": "stdout",
     "output_type": "stream",
     "text": [
      "🔍 Detailed Analysis: \"Apple announced new AI features yesterday\"\n",
      "\n"
     ]
    },
    {
     "name": "stderr",
     "output_type": "stream",
     "text": [
      "/Users/nikpatel/Documents/GitHub/workshop-agents/.venv/lib/python3.13/site-packages/langchain_community/utilities/duckduckgo_search.py:63: RuntimeWarning: This package (`duckduckgo_search`) has been renamed to `ddgs`! Use `pip install ddgs` instead.\n",
      "  with DDGS() as ddgs:\n"
     ]
    },
    {
     "name": "stdout",
     "output_type": "stream",
     "text": [
      "1️⃣ LLM's Decision Process:\n",
      "   Used search: Yes\n",
      "\n",
      "2️⃣ Tools Used:\n",
      "   - search_for_information\n",
      "\n",
      "3️⃣ Search Results:\n",
      "   Query: Apple new AI features announcement July 21, 2025\n",
      "   Facts found:\n",
      "     - Jun 20, 2025 · Explore all the new Apple Intelligence features from WWDC 2025—Li...\n",
      "     - Here’s what your iPhone and Mac can now do...\n",
      "\n",
      "4️⃣ Final Analysis:\n",
      "   Verdict: BS\n",
      "   Confidence: 90%\n",
      "   Routed to: current_event → Current Events Expert (with tools)\n",
      "\n",
      "   Full Reasoning:\n",
      "   The latest verified announcements of new AI features from Apple occurred in June 2025, specifically around June 9 and June 20 during WWDC 2025. There is no evidence of any new AI feature announcement from Apple on July 21, 2025 (yesterday). Therefore, the claim that Apple announced new AI features yesterday is not supported by available information.\n"
     ]
    }
   ],
   "source": [
    "# Let's trace through a claim that should trigger search\n",
    "recent_claim = \"Apple announced new AI features yesterday\"\n",
    "\n",
    "print(f\"🔍 Detailed Analysis: \\\"{recent_claim}\\\"\\n\")\n",
    "\n",
    "# Run the claim\n",
    "result = check_claim_with_tools(recent_claim)\n",
    "\n",
    "print(\"1️⃣ LLM's Decision Process:\")\n",
    "print(f\"   Used search: {'Yes' if result['used_search'] else 'No'}\")\n",
    "\n",
    "if result['used_search']:\n",
    "    print(f\"\\n2️⃣ Tools Used:\")\n",
    "    for tool in result.get('tools_used', []):\n",
    "        print(f\"   - {tool}\")\n",
    "    \n",
    "    if result.get('search_results'):\n",
    "        print(f\"\\n3️⃣ Search Results:\")\n",
    "        for sr in result['search_results']:\n",
    "            # sr is a WebSearchResult object, not a dict\n",
    "            print(f\"   Query: {sr.query}\")\n",
    "            if sr.facts:\n",
    "                print(\"   Facts found:\")\n",
    "                for fact in sr.facts[:2]:\n",
    "                    print(f\"     - {fact[:150]}...\")\n",
    "\n",
    "print(f\"\\n4️⃣ Final Analysis:\")\n",
    "print(f\"   Verdict: {result['verdict']}\")\n",
    "print(f\"   Confidence: {result['confidence']}%\")\n",
    "\n",
    "if result.get('claim_type'):\n",
    "    print(f\"   Routed to: {result['claim_type']} → {result['analyzing_agent']}\")\n",
    "\n",
    "if result.get('reasoning'):\n",
    "    print(f\"\\n   Full Reasoning:\")\n",
    "    print(f\"   {result['reasoning']}\")"
   ]
  },
  {
   "cell_type": "markdown",
   "metadata": {},
   "source": [
    "## The Power of LLM Agency\n",
    "\n",
    "Let's see how the LLM handles edge cases better than hardcoded rules:"
   ]
  },
  {
   "cell_type": "code",
   "execution_count": 16,
   "metadata": {},
   "outputs": [
    {
     "name": "stdout",
     "output_type": "stream",
     "text": [
      "🤔 Edge Cases - LLM Decides Based on Context:\n",
      "\n",
      "\n",
      "Claim: \"The Concorde flew at Mach 2.04\"\n",
      "  LLM searched: No\n",
      "  Verdict: LEGITIMATE (95%)\n",
      "  Reasoning: The Concorde was a supersonic passenger airliner capable of cruising at speeds over Mach 2. The typi...\n"
     ]
    },
    {
     "name": "stderr",
     "output_type": "stream",
     "text": [
      "/Users/nikpatel/Documents/GitHub/workshop-agents/.venv/lib/python3.13/site-packages/langchain_community/utilities/duckduckgo_search.py:63: RuntimeWarning: This package (`duckduckgo_search`) has been renamed to `ddgs`! Use `pip install ddgs` instead.\n",
      "  with DDGS() as ddgs:\n"
     ]
    },
    {
     "name": "stdout",
     "output_type": "stream",
     "text": [
      "\n",
      "Claim: \"Boeing is developing a new aircraft\"\n",
      "  LLM searched: Yes\n",
      "  Verdict: BS (80%)\n",
      "  Reasoning: The search for recent information on Boeing developing a new aircraft specifically in July 2025 did ...\n",
      "\n",
      "Claim: \"AI will replace pilots by 2030\"\n",
      "  LLM searched: No\n",
      "  Verdict: BS (85%)\n",
      "  Reasoning: While AI and automation have made significant advances in aviation, fully replacing human pilots by ...\n"
     ]
    }
   ],
   "source": [
    "# Edge cases that are hard to categorize with rules\n",
    "edge_cases = [\n",
    "    \"The Concorde flew at Mach 2.04\",  # Historical but specific number\n",
    "    \"Boeing is developing a new aircraft\",  # Vague timeline\n",
    "    \"AI will replace pilots by 2030\",  # Future prediction\n",
    "]\n",
    "\n",
    "print(\"🤔 Edge Cases - LLM Decides Based on Context:\\n\")\n",
    "\n",
    "for claim in edge_cases:\n",
    "    result = check_claim_with_tools(claim)\n",
    "    \n",
    "    print(f\"\\nClaim: \\\"{claim}\\\"\")\n",
    "    print(f\"  LLM searched: {'Yes' if result['used_search'] else 'No'}\")\n",
    "    print(f\"  Verdict: {result['verdict']} ({result['confidence']}%)\")\n",
    "    \n",
    "    # Show reasoning snippet\n",
    "    if result.get('reasoning'):\n",
    "        reason_preview = result['reasoning'][:100].replace('\\n', ' ')\n",
    "        print(f\"  Reasoning: {reason_preview}...\")"
   ]
  },
  {
   "cell_type": "markdown",
   "metadata": {},
   "source": [
    "## Performance Analysis"
   ]
  },
  {
   "cell_type": "code",
   "execution_count": 17,
   "metadata": {},
   "outputs": [
    {
     "name": "stdout",
     "output_type": "stream",
     "text": [
      "⏱️ Performance Analysis:\n",
      "\n",
      "Historical fact: \"The Wright brothers flew in 19...\"\n",
      "  Time: 2.87s\n",
      "  Searched: No\n",
      "  Result: LEGITIMATE\n",
      "\n"
     ]
    },
    {
     "name": "stderr",
     "output_type": "stream",
     "text": [
      "/Users/nikpatel/Documents/GitHub/workshop-agents/.venv/lib/python3.13/site-packages/langchain_community/utilities/duckduckgo_search.py:63: RuntimeWarning: This package (`duckduckgo_search`) has been renamed to `ddgs`! Use `pip install ddgs` instead.\n",
      "  with DDGS() as ddgs:\n"
     ]
    },
    {
     "name": "stdout",
     "output_type": "stream",
     "text": [
      "Recent event: \"SpaceX launched yesterday...\"\n",
      "  Time: 4.27s\n",
      "  Searched: Yes\n",
      "  Result: BS\n",
      "\n"
     ]
    },
    {
     "name": "stderr",
     "output_type": "stream",
     "text": [
      "/Users/nikpatel/Documents/GitHub/workshop-agents/.venv/lib/python3.13/site-packages/langchain_community/utilities/duckduckgo_search.py:63: RuntimeWarning: This package (`duckduckgo_search`) has been renamed to `ddgs`! Use `pip install ddgs` instead.\n",
      "  with DDGS() as ddgs:\n"
     ]
    },
    {
     "name": "stdout",
     "output_type": "stream",
     "text": [
      "Current data: \"Bitcoin price today...\"\n",
      "  Time: 8.62s\n",
      "  Searched: Yes\n",
      "  Result: LEGITIMATE\n",
      "\n"
     ]
    }
   ],
   "source": [
    "import time\n",
    "\n",
    "# Compare performance\n",
    "test_cases = [\n",
    "    (\"Historical fact\", \"The Wright brothers flew in 1903\"),\n",
    "    (\"Recent event\", \"SpaceX launched yesterday\"),\n",
    "    (\"Current data\", \"Bitcoin price today\")\n",
    "]\n",
    "\n",
    "print(\"⏱️ Performance Analysis:\\n\")\n",
    "\n",
    "for case_type, claim in test_cases:\n",
    "    start = time.time()\n",
    "    result = check_claim_with_tools(claim)\n",
    "    duration = time.time() - start\n",
    "    \n",
    "    print(f\"{case_type}: \\\"{claim[:30]}...\\\"\")\n",
    "    print(f\"  Time: {duration:.2f}s\")\n",
    "    print(f\"  Searched: {'Yes' if result['used_search'] else 'No'}\")\n",
    "    print(f\"  Result: {result['verdict']}\")\n",
    "    print()"
   ]
  },
  {
   "cell_type": "code",
   "execution_count": 18,
   "metadata": {},
   "outputs": [
    {
     "name": "stdout",
     "output_type": "stream",
     "text": [
      "📝 Implementation Pattern:\n",
      "\n",
      "❌ OLD WAY (Single Agent with Tools):\n",
      "```python\n",
      "# Every claim goes through the same process\n",
      "if needs_search(claim):\n",
      "    search()  # All claims evaluated the same way\n",
      "```\n",
      "\n",
      "✅ NEW WAY (Multi-Agent with Specialized Tools):\n",
      "```python\n",
      "# 1. Router analyzes claim type\n",
      "claim_type = router.analyze(claim)\n",
      "\n",
      "# 2. Route to specialist\n",
      "if claim_type == 'current_event':\n",
      "    # Only this expert has tools!\n",
      "    expert = CurrentEventsExpert(tools=[search_tool])\n",
      "elif claim_type == 'technical':\n",
      "    expert = TechnicalExpert()  # No tools needed\n",
      "\n",
      "# 3. Expert decides if they need their tools\n",
      "result = expert.analyze(claim)\n",
      "```\n",
      "\n",
      "🎯 Key Benefits:\n",
      "1. Efficient: Only current events expert has search overhead\n",
      "2. Specialized: Each expert optimized for their domain\n",
      "3. Scalable: Easy to add new experts or tools\n",
      "4. Smart: Tools only where they make sense\n"
     ]
    }
   ],
   "source": [
    "print(\"📝 Implementation Pattern:\\n\")\n",
    "print(\"❌ OLD WAY (Single Agent with Tools):\")\n",
    "print(\"```python\")\n",
    "print(\"# Every claim goes through the same process\")\n",
    "print(\"if needs_search(claim):\")\n",
    "print(\"    search()  # All claims evaluated the same way\")\n",
    "print(\"```\")\n",
    "\n",
    "print(\"\\n✅ NEW WAY (Multi-Agent with Specialized Tools):\")\n",
    "print(\"```python\")\n",
    "print(\"# 1. Router analyzes claim type\")\n",
    "print(\"claim_type = router.analyze(claim)\")\n",
    "print(\"\")\n",
    "print(\"# 2. Route to specialist\")\n",
    "print(\"if claim_type == 'current_event':\")\n",
    "print(\"    # Only this expert has tools!\")\n",
    "print(\"    expert = CurrentEventsExpert(tools=[search_tool])\")\n",
    "print(\"elif claim_type == 'technical':\")\n",
    "print(\"    expert = TechnicalExpert()  # No tools needed\")\n",
    "print(\"\")\n",
    "print(\"# 3. Expert decides if they need their tools\")\n",
    "print(\"result = expert.analyze(claim)\")\n",
    "print(\"```\")\n",
    "\n",
    "print(\"\\n🎯 Key Benefits:\")\n",
    "print(\"1. Efficient: Only current events expert has search overhead\")\n",
    "print(\"2. Specialized: Each expert optimized for their domain\")\n",
    "print(\"3. Scalable: Easy to add new experts or tools\")\n",
    "print(\"4. Smart: Tools only where they make sense\")"
   ]
  },
  {
   "cell_type": "code",
   "execution_count": 19,
   "metadata": {},
   "outputs": [
    {
     "ename": "SyntaxError",
     "evalue": "invalid syntax (1634182694.py, line 4)",
     "output_type": "error",
     "traceback": [
      "  \u001b[36mCell\u001b[39m\u001b[36m \u001b[39m\u001b[32mIn[19]\u001b[39m\u001b[32m, line 4\u001b[39m\n\u001b[31m    \u001b[39m\u001b[31m- **Multi-Agent System** with specialized experts\u001b[39m\n      ^\n\u001b[31mSyntaxError\u001b[39m\u001b[31m:\u001b[39m invalid syntax\n"
     ]
    }
   ],
   "source": [
    "## Summary & Takeaways\n",
    "\n",
    "### What We Built\n",
    "- **Multi-Agent System** with specialized experts\n",
    "- **Smart Tool Assignment** - only Current Events Expert has web search\n",
    "- **Efficient Routing** - claims go to the right expert\n",
    "- **Tool-calling LLM** - expert decides when to search\n",
    "\n",
    "### Architecture Evolution\n",
    "1. **Module 1**: Simple BS detector\n",
    "2. **Module 2**: Added LangGraph for reliability  \n",
    "3. **Module 3**: Multi-agent routing to specialists\n",
    "4. **Module 4**: Tools for the expert who needs them!\n",
    "\n",
    "### Key Implementation Details\n",
    "```python\n",
    "# Extend existing multi-agent system\n",
    "from modules.m3_routing import (\n",
    "    router_node,\n",
    "    technical_expert_node,\n",
    "    historical_expert_node,\n",
    "    general_expert_node\n",
    ")\n",
    "\n",
    "# Enhance only the current events expert\n",
    "@tool\n",
    "def search_for_information(query: str) -> str:\n",
    "    \"\"\"Web search tool...\"\"\"\n",
    "\n",
    "# Current events expert with tools\n",
    "def current_events_expert_with_tools_node(state):\n",
    "    llm_with_tools = llm.bind_tools([search_for_information])\n",
    "    # Expert decides when to search\n",
    "```\n",
    "\n",
    "### Why This Architecture Works\n",
    "1. **Separation of Concerns**\n",
    "   - Router focuses on classification\n",
    "   - Experts focus on their domains\n",
    "   - Tools only where needed\n",
    "\n",
    "2. **Efficiency**\n",
    "   - Historical/Technical claims: Fast, no search needed\n",
    "   - Current events: Search when necessary\n",
    "   - No wasted API calls\n",
    "\n",
    "3. **Maintainability**\n",
    "   - Easy to add new experts\n",
    "   - Easy to add tools to specific experts\n",
    "   - Clear responsibility boundaries\n",
    "\n",
    "### Next Steps\n",
    "In Iteration 5, we could add:\n",
    "- More specialized tools (fact databases, calculators)\n",
    "- Human-in-the-loop for low confidence\n",
    "- Multi-expert consensus for complex claims"
   ]
  },
  {
   "cell_type": "markdown",
   "metadata": {},
   "source": [
    "## Summary & Takeaways\n",
    "\n",
    "### What We Built\n",
    "- **Tool-calling LLM agent** that decides when it needs more information\n",
    "- **Information sufficiency-based decisions** - not keyword matching\n",
    "- **Proper tool binding pattern** using LangChain's @tool decorator\n",
    "\n",
    "### Key Implementation Details\n",
    "```python\n",
    "# 1. Define tool with clear documentation\n",
    "@tool\n",
    "def search_for_information(query: str) -> str:\n",
    "    \"\"\"Search the web when you lack sufficient information...\"\"\"\n",
    "    \n",
    "# 2. Bind tools to LLM\n",
    "llm_with_tools = llm.bind_tools([search_for_information])\n",
    "\n",
    "# 3. System prompt emphasizes information sufficiency\n",
    "\"If you lack sufficient information to make a confident assessment, \n",
    " use the search_for_information tool\"\n",
    "```\n",
    "\n",
    "### Why This Approach Works\n",
    "1. **LLM Agency > Hardcoded Rules**\n",
    "   - Adapts to context naturally\n",
    "   - No brittle keyword matching\n",
    "   - Handles edge cases intelligently\n",
    "\n",
    "2. **Tool Documentation Matters**\n",
    "   - Clear docstrings guide the LLM\n",
    "   - Explains WHEN to use the tool\n",
    "   - Self-documenting code\n",
    "\n",
    "3. **Information Sufficiency Focus**\n",
    "   - Searches based on actual need\n",
    "   - Not triggered by keywords\n",
    "   - More efficient and accurate\n",
    "\n",
    "### Next Steps\n",
    "In Iteration 5, we'll add human-in-the-loop for cases where even search isn't enough!"
   ]
  },
  {
   "cell_type": "code",
   "execution_count": 20,
   "metadata": {},
   "outputs": [
    {
     "name": "stdout",
     "output_type": "stream",
     "text": [
      "🎯 Your Turn!\n",
      "\n",
      "Try these claims and see how the LLM decides:\n",
      "1. 'ChatGPT-5 was released last week'\n",
      "2. 'Quantum computers can break all encryption'\n",
      "3. 'The price of gold is $2000 per ounce'\n",
      "\n",
      "Notice how the LLM's decisions are more nuanced than simple keyword matching!\n"
     ]
    }
   ],
   "source": [
    "# Try your own claims!\n",
    "print(\"🎯 Your Turn!\\n\")\n",
    "print(\"Try these claims and see how the LLM decides:\")\n",
    "print(\"1. 'ChatGPT-5 was released last week'\")\n",
    "print(\"2. 'Quantum computers can break all encryption'\")\n",
    "print(\"3. 'The price of gold is $2000 per ounce'\")\n",
    "print(\"\\nNotice how the LLM's decisions are more nuanced than simple keyword matching!\")"
   ]
  },
  {
   "cell_type": "code",
   "execution_count": null,
   "metadata": {},
   "outputs": [],
   "source": []
  }
 ],
 "metadata": {
  "kernelspec": {
   "display_name": "Python 3 (ipykernel)",
   "language": "python",
   "name": "python3"
  },
  "language_info": {
   "codemirror_mode": {
    "name": "ipython",
    "version": 3
   },
   "file_extension": ".py",
   "mimetype": "text/x-python",
   "name": "python",
   "nbconvert_exporter": "python",
   "pygments_lexer": "ipython3",
   "version": "3.13.5"
  }
 },
 "nbformat": 4,
 "nbformat_minor": 4
}
