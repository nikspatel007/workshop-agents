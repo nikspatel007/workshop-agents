{
 "cells": [
  {
   "cell_type": "markdown",
   "metadata": {},
   "source": [
    "# 07: Memory-Enhanced BS Detection\n",
    "\n",
    "Add persistent memory to remember claims, learn patterns, and build context over time."
   ]
  },
  {
   "cell_type": "code",
   "execution_count": 1,
   "metadata": {},
   "outputs": [
    {
     "name": "stdout",
     "output_type": "stream",
     "text": [
      "✅ Memory-enhanced BS detector ready!\n",
      "✅ LLM initialized: ChatOpenAI\n"
     ]
    }
   ],
   "source": [
    "import sys\n",
    "from pathlib import Path\n",
    "sys.path.append(str(Path.cwd().parent))\n",
    "\n",
    "from modules.m7_memory import (\n",
    "    memory_enhanced_check,\n",
    "    SimpleMemoryManager,\n",
    "    clear_memory,\n",
    "    MEMORY_STORE\n",
    ")\n",
    "from modules.utils import render_mermaid_diagram\n",
    "from config.llm_factory import LLMFactory\n",
    "from IPython.display import display\n",
    "\n",
    "# Initialize LLM once for all cells\n",
    "llm = LLMFactory.create_llm()\n",
    "print(\"✅ Memory-enhanced BS detector ready!\")\n",
    "print(f\"✅ LLM initialized: {type(llm).__name__}\")"
   ]
  },
  {
   "cell_type": "markdown",
   "metadata": {},
   "source": [
    "## How Memory Works"
   ]
  },
  {
   "cell_type": "code",
   "execution_count": 2,
   "metadata": {},
   "outputs": [
    {
     "data": {
      "text/html": [
       "<img src=\"https://mermaid.ink/img/CmdyYXBoIExSCiAgICBBW05ldyBDbGFpbV0gLS0+IEJbRXh0cmFjdCBFbnRpdGllc10KICAgIEIgLS0+IENbU2VhcmNoIE1lbW9yeV0KICAgIEMgLS0+IER7Rm91bmQgQ29udGV4dD99CiAgICBEIC0tPnxZZXN8IEVbRW5oYW5jZWQgUHJvbXB0XQogICAgRCAtLT58Tm98IEZbU3RhbmRhcmQgUHJvbXB0XQogICAgRSAtLT4gR1tMTE0gQW5hbHlzaXNdCiAgICBGIC0tPiBHCiAgICBHIC0tPiBIW1N0b3JlIFJlc3VsdF0KICAgIEggLS0+IElbVXBkYXRlIFBhdHRlcm5zXQo=?type=png\"/>"
      ],
      "text/plain": [
       "<IPython.core.display.Image object>"
      ]
     },
     "metadata": {},
     "output_type": "display_data"
    }
   ],
   "source": [
    "memory_flow = \"\"\"\n",
    "graph LR\n",
    "    A[New Claim] --> B[Extract Entities]\n",
    "    B --> C[Search Memory]\n",
    "    C --> D{Found Context?}\n",
    "    D -->|Yes| E[Enhanced Prompt]\n",
    "    D -->|No| F[Standard Prompt]\n",
    "    E --> G[LLM Analysis]\n",
    "    F --> G\n",
    "    G --> H[Store Result]\n",
    "    H --> I[Update Patterns]\n",
    "\"\"\"\n",
    "\n",
    "display(render_mermaid_diagram(memory_flow))"
   ]
  },
  {
   "cell_type": "markdown",
   "metadata": {},
   "source": [
    "## 1. Basic Memory Usage\n",
    "\n",
    "First, let's see how memory works with a simple example."
   ]
  },
  {
   "cell_type": "code",
   "execution_count": 3,
   "metadata": {},
   "outputs": [
    {
     "name": "stdout",
     "output_type": "stream",
     "text": [
      "Claim: The Boeing 747 has four engines\n",
      "Verdict: LEGITIMATE (95%)\n",
      "Reasoning: The Boeing 747 is a large, wide-body commercial jet airliner that is well-known for having four engi...\n",
      "\n",
      "Entities extracted: ['The Boeing']\n"
     ]
    }
   ],
   "source": [
    "# Clear memory for fresh start\n",
    "clear_memory()\n",
    "\n",
    "# First claim - no memory context\n",
    "claim1 = \"The Boeing 747 has four engines\"\n",
    "result1 = memory_enhanced_check(claim1, llm)\n",
    "\n",
    "print(f\"Claim: {claim1}\")\n",
    "print(f\"Verdict: {result1['verdict']} ({result1['confidence']}%)\")\n",
    "print(f\"Reasoning: {result1['reasoning'][:100]}...\")\n",
    "print(f\"\\nEntities extracted: {result1.get('related_entities', [])}\")"
   ]
  },
  {
   "cell_type": "code",
   "execution_count": 4,
   "metadata": {},
   "outputs": [
    {
     "name": "stdout",
     "output_type": "stream",
     "text": [
      "Claim: The Boeing 747 can fly at Mach 2 like the Concorde\n",
      "Verdict: BS (98%)\n",
      "Reasoning: The Boeing 747 is a subsonic commercial airliner with a typical cruising speed of around Mach 0.85. ...\n",
      "\n",
      "📝 Memory Context Used:\n",
      "Related previous claims:\\n- The Boeing 747 has four engines: LEGITIMATE (95%)\n"
     ]
    }
   ],
   "source": [
    "# Second claim - should use memory about 747\n",
    "claim2 = \"The Boeing 747 can fly at Mach 2 like the Concorde\"\n",
    "result2 = memory_enhanced_check(claim2, llm)\n",
    "\n",
    "print(f\"Claim: {claim2}\")\n",
    "print(f\"Verdict: {result2['verdict']} ({result2['confidence']}%)\")\n",
    "print(f\"Reasoning: {result2['reasoning'][:100]}...\")\n",
    "\n",
    "if result2.get('memory_context'):\n",
    "    print(f\"\\n📝 Memory Context Used:\")\n",
    "    print(result2['memory_context'])"
   ]
  },
  {
   "cell_type": "markdown",
   "metadata": {},
   "source": [
    "## 2. Entity Extraction\n",
    "\n",
    "The memory system automatically extracts entities from claims."
   ]
  },
  {
   "cell_type": "code",
   "execution_count": 5,
   "metadata": {},
   "outputs": [
    {
     "name": "stdout",
     "output_type": "stream",
     "text": [
      "Entity Extraction Examples:\n",
      "\n",
      "Claim: The Wright Brothers flew at Kitty Hawk in 1903\n",
      "Entities: ['The Wright Brothers', 'Kitty Hawk']\n",
      "\n",
      "Claim: SpaceX launched Falcon 9 from Cape Canaveral\n",
      "Entities: ['Cape Canaveral', 'Falcon']\n",
      "\n",
      "Claim: The A380 is manufactured by Airbus\n",
      "Entities: ['A380', 'Airbus']\n",
      "\n"
     ]
    }
   ],
   "source": [
    "# Test entity extraction with different claims\n",
    "test_claims = [\n",
    "    \"The Wright Brothers flew at Kitty Hawk in 1903\",\n",
    "    \"SpaceX launched Falcon 9 from Cape Canaveral\",\n",
    "    \"The A380 is manufactured by Airbus\"\n",
    "]\n",
    "\n",
    "print(\"Entity Extraction Examples:\\n\")\n",
    "for claim in test_claims:\n",
    "    entities = SimpleMemoryManager.extract_entities(claim)\n",
    "    print(f\"Claim: {claim}\")\n",
    "    print(f\"Entities: {entities}\")\n",
    "    print()"
   ]
  },
  {
   "cell_type": "markdown",
   "metadata": {},
   "source": [
    "## 3. Building Knowledge Over Time\n",
    "\n",
    "Watch how the system builds knowledge about the A380."
   ]
  },
  {
   "cell_type": "code",
   "execution_count": 6,
   "metadata": {},
   "outputs": [
    {
     "name": "stdout",
     "output_type": "stream",
     "text": [
      "Processing related claims about the A380:\n",
      "\n",
      "1. The Airbus A380 is the world's largest passenger airliner\n",
      "   → LEGITIMATE (95%)\n",
      "\n",
      "2. The A380 has two full decks\n",
      "   → LEGITIMATE (95%)\n",
      "   → Found 1 related claims in memory\n",
      "\n",
      "3. Emirates operates the most A380s\n",
      "   → LEGITIMATE (95%)\n",
      "\n",
      "4. The A380 can carry 1000 passengers\n",
      "   → BS (90%)\n",
      "   → Found 2 related claims in memory\n",
      "\n"
     ]
    }
   ],
   "source": [
    "# Series of related claims about the A380\n",
    "aviation_claims = [\n",
    "    \"The Airbus A380 is the world's largest passenger airliner\",\n",
    "    \"The A380 has two full decks\",\n",
    "    \"Emirates operates the most A380s\",\n",
    "    \"The A380 can carry 1000 passengers\"  # This is BS - max is ~850\n",
    "]\n",
    "\n",
    "print(\"Processing related claims about the A380:\\n\")\n",
    "for i, claim in enumerate(aviation_claims, 1):\n",
    "    result = memory_enhanced_check(claim, llm)\n",
    "    \n",
    "    print(f\"{i}. {claim}\")\n",
    "    print(f\"   → {result['verdict']} ({result['confidence']}%)\")\n",
    "    \n",
    "    if result.get('similar_claims'):\n",
    "        print(f\"   → Found {result['similar_claims']} related claims in memory\")\n",
    "    print()"
   ]
  },
  {
   "cell_type": "markdown",
   "metadata": {},
   "source": [
    "## 4. Cross-Reference Check\n",
    "\n",
    "Test how memory helps when comparing entities."
   ]
  },
  {
   "cell_type": "code",
   "execution_count": 7,
   "metadata": {},
   "outputs": [
    {
     "name": "stdout",
     "output_type": "stream",
     "text": [
      "Cross-reference claim: The A380 is bigger than the Boeing 747\n",
      "\n",
      "Verdict: LEGITIMATE (90%)\n",
      "Entities found: ['A380', 'Boeing']\n",
      "\n",
      "📝 Memory Context:\n",
      "Related previous claims:\\n- The Airbus A380 is the world's largest passenger airliner: LEGITIMATE (95%)\\n- The A380 has two full decks: LEGITIMATE (95%)\\n- The A380 can carry 1000 passengers: BS (90%)\n"
     ]
    }
   ],
   "source": [
    "# Check a claim that references multiple stored entities\n",
    "cross_ref_claim = \"The A380 is bigger than the Boeing 747\"\n",
    "result = memory_enhanced_check(cross_ref_claim, llm)\n",
    "\n",
    "print(f\"Cross-reference claim: {cross_ref_claim}\")\n",
    "print(f\"\\nVerdict: {result['verdict']} ({result['confidence']}%)\")\n",
    "print(f\"Entities found: {result.get('related_entities', [])}\")\n",
    "\n",
    "if result.get('memory_context'):\n",
    "    print(f\"\\n📝 Memory Context:\")\n",
    "    print(result['memory_context'])"
   ]
  },
  {
   "cell_type": "markdown",
   "metadata": {},
   "source": [
    "## 5. Pattern Detection\n",
    "\n",
    "The system learns to recognize BS patterns over time."
   ]
  },
  {
   "cell_type": "code",
   "execution_count": 8,
   "metadata": {},
   "outputs": [
    {
     "name": "stdout",
     "output_type": "stream",
     "text": [
      "Testing pattern detection:\n",
      "\n",
      "Claim: A new quantum engine can achieve light speed\n",
      "Verdict: BS (95%)\n",
      "\n",
      "Claim: Scientists created an anti-gravity drive\n",
      "Verdict: BS (95%)\n",
      "\n",
      "Claim: A perpetual motion engine was patented\n",
      "Verdict: LEGITIMATE (90%)\n",
      "\n",
      "Claim: Another quantum breakthrough defies physics\n",
      "Verdict: BS (85%)\n",
      "\n"
     ]
    }
   ],
   "source": [
    "# Submit claims with common BS patterns\n",
    "bs_pattern_claims = [\n",
    "    \"A new quantum engine can achieve light speed\",\n",
    "    \"Scientists created an anti-gravity drive\", \n",
    "    \"A perpetual motion engine was patented\",\n",
    "    \"Another quantum breakthrough defies physics\"  # Should detect pattern\n",
    "]\n",
    "\n",
    "print(\"Testing pattern detection:\\n\")\n",
    "for claim in bs_pattern_claims:\n",
    "    result = memory_enhanced_check(claim, llm)\n",
    "    print(f\"Claim: {claim}\")\n",
    "    print(f\"Verdict: {result['verdict']} ({result['confidence']}%)\")\n",
    "    \n",
    "    # Check if pattern was detected\n",
    "    if result.get('memory_context') and 'pattern' in result['memory_context'].lower():\n",
    "        print(\"⚠️  BS pattern detected!\")\n",
    "    print()"
   ]
  },
  {
   "cell_type": "markdown",
   "metadata": {},
   "source": [
    "## 6. Memory Statistics\n",
    "\n",
    "View what the system has learned."
   ]
  },
  {
   "cell_type": "code",
   "execution_count": 9,
   "metadata": {},
   "outputs": [
    {
     "name": "stdout",
     "output_type": "stream",
     "text": [
      "🧠 Memory Statistics:\n",
      "\n",
      "Total claims processed: 11\n",
      "\n",
      "Top entities (by frequency):\n",
      "  - A380: mentioned 4 times\n",
      "  - The Boeing: mentioned 2 times\n",
      "  - Concorde: mentioned 1 times\n",
      "  - Mach: mentioned 1 times\n",
      "  - The Airbus: mentioned 1 times\n",
      "  - Emirates: mentioned 1 times\n",
      "  - Boeing: mentioned 1 times\n",
      "  - Scientists: mentioned 1 times\n",
      "  - Another: mentioned 1 times\n",
      "\n",
      "BS patterns detected:\n",
      "  - 'quantum': found 2 times\n",
      "  - 'light speed': found 1 times\n",
      "  - 'anti-gravity': found 1 times\n",
      "\n",
      "Recent claims:\n",
      "  - The A380 is bigger than the Boeing 747 → LEGITIMATE\n",
      "  - A new quantum engine can achieve light speed → BS\n",
      "  - Scientists created an anti-gravity drive → BS\n",
      "  - A perpetual motion engine was patented → LEGITIMATE\n",
      "  - Another quantum breakthrough defies physics → BS\n"
     ]
    }
   ],
   "source": [
    "# View memory statistics\n",
    "print(\"🧠 Memory Statistics:\")\n",
    "print(f\"\\nTotal claims processed: {len(MEMORY_STORE['claims'])}\")\n",
    "\n",
    "# Top entities by frequency\n",
    "print(f\"\\nTop entities (by frequency):\")\n",
    "entity_counts = [(entity, len(indices)) for entity, indices in MEMORY_STORE['entities'].items()]\n",
    "entity_counts.sort(key=lambda x: x[1], reverse=True)\n",
    "for entity, count in entity_counts[:10]:\n",
    "    print(f\"  - {entity}: mentioned {count} times\")\n",
    "\n",
    "# BS patterns detected\n",
    "if MEMORY_STORE['patterns']:\n",
    "    print(f\"\\nBS patterns detected:\")\n",
    "    for pattern, count in MEMORY_STORE['patterns'].items():\n",
    "        print(f\"  - '{pattern}': found {count} times\")\n",
    "\n",
    "# Recent claims\n",
    "print(f\"\\nRecent claims:\")\n",
    "for claim_record in MEMORY_STORE['claims'][-5:]:\n",
    "    claim_text = claim_record['claim'][:50] + '...' if len(claim_record['claim']) > 50 else claim_record['claim']\n",
    "    print(f\"  - {claim_text} → {claim_record['verdict']}\")"
   ]
  },
  {
   "cell_type": "markdown",
   "metadata": {},
   "source": [
    "## Interactive Testing\n",
    "\n",
    "Try your own claims to see how memory affects the results."
   ]
  },
  {
   "cell_type": "code",
   "execution_count": 10,
   "metadata": {},
   "outputs": [
    {
     "name": "stdout",
     "output_type": "stream",
     "text": [
      "Your claim: The Concorde could cross the Atlantic in under 3 hours\n",
      "\n",
      "Verdict: LEGITIMATE (95%)\n",
      "Reasoning: The Concorde was a supersonic passenger airliner capable of cruising at speeds over Mach 2, approximately 1,354 mph (2,180 km/h). Given the typical distance across the Atlantic Ocean between London and New York is about 3,460 miles (5,570 km), the Concorde was able to complete the journey in under 3 hours, often around 2 hours and 50 minutes. This speed was significantly faster than conventional subsonic aircraft, which typically take about 7-8 hours for the same route.\n",
      "\n",
      "Entities extracted: ['Atlantic', 'The Concorde']\n"
     ]
    }
   ],
   "source": [
    "# Test your own claim\n",
    "your_claim = \"The Concorde could cross the Atlantic in under 3 hours\"\n",
    "\n",
    "result = memory_enhanced_check(your_claim, llm)\n",
    "\n",
    "print(f\"Your claim: {your_claim}\")\n",
    "print(f\"\\nVerdict: {result['verdict']} ({result['confidence']}%)\")\n",
    "print(f\"Reasoning: {result['reasoning']}\")\n",
    "\n",
    "if result.get('memory_context'):\n",
    "    print(f\"\\n📝 Memory Context:\")\n",
    "    print(result['memory_context'])\n",
    "\n",
    "print(f\"\\nEntities extracted: {result.get('related_entities', [])}\")"
   ]
  },
  {
   "cell_type": "markdown",
   "metadata": {},
   "source": [
    "## Key Takeaways\n",
    "\n",
    "1. **Entity Extraction** - Automatically identifies key entities (Boeing, A380, etc.)\n",
    "2. **Context Building** - Each claim enriches the knowledge base\n",
    "3. **Pattern Learning** - Detects recurring BS patterns (quantum, perpetual motion)\n",
    "4. **Smart Retrieval** - Finds relevant prior claims for better verdicts\n",
    "5. **Progressive Learning** - The system gets smarter with each use\n",
    "\n",
    "### Memory Benefits:\n",
    "- **Consistency** - Similar claims get similar treatment\n",
    "- **Context Awareness** - Previous knowledge informs new verdicts\n",
    "- **Pattern Recognition** - Identifies common BS indicators\n",
    "- **Efficiency** - Leverages past analysis for faster decisions\n",
    "\n",
    "The memory system transforms a stateless BS detector into an intelligent system that learns and improves!"
   ]
  }
 ],
 "metadata": {
  "kernelspec": {
   "display_name": "Python 3 (ipykernel)",
   "language": "python",
   "name": "python3"
  },
  "language_info": {
   "codemirror_mode": {
    "name": "ipython",
    "version": 3
   },
   "file_extension": ".py",
   "mimetype": "text/x-python",
   "name": "python",
   "nbconvert_exporter": "python",
   "pygments_lexer": "ipython3",
   "version": "3.13.5"
  }
 },
 "nbformat": 4,
 "nbformat_minor": 4
}
