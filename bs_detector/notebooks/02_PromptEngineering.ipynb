{
 "cells": [
  {
   "cell_type": "markdown",
   "metadata": {},
   "source": [
    "# 06: Prompt Engineering for Better BS Detection\n",
    "\n",
    "Learn how to craft effective prompts for more accurate BS detection."
   ]
  },
  {
   "cell_type": "code",
   "execution_count": 1,
   "metadata": {},
   "outputs": [
    {
     "name": "stdout",
     "output_type": "stream",
     "text": [
      "✅ LLM ready for prompt engineering!\n"
     ]
    }
   ],
   "source": [
    "import sys\n",
    "from pathlib import Path\n",
    "sys.path.append(str(Path.cwd().parent))\n",
    "\n",
    "from config.llm_factory import LLMFactory\n",
    "from pydantic import BaseModel\n",
    "\n",
    "llm = LLMFactory.create_llm()\n",
    "print(\"✅ LLM ready for prompt engineering!\")"
   ]
  },
  {
   "cell_type": "markdown",
   "metadata": {},
   "source": [
    "## 1. Basic vs. Structured Prompts"
   ]
  },
  {
   "cell_type": "code",
   "execution_count": 3,
   "metadata": {},
   "outputs": [
    {
     "name": "stdout",
     "output_type": "stream",
     "text": [
      "Basic Prompt Response:\n",
      "No, the Boeing 747 cannot fly in reverse using reverse thrust.\n",
      "\n",
      "While the Boeing 747—and many other jet aircraft—are equipped with thrust reversers, these are designed to help slow the aircraft down a...\n",
      "\n",
      "\n",
      "Structured Prompt Response:\n",
      "- Verdict: FALSE  \n",
      "- Confidence: 95%  \n",
      "- Evidence:  \n",
      "  1. Reverse thrust on the Boeing 747 is designed to slow the aircraft down after landing by redirecting engine thrust forward, not to propel the aircraft backward in flight or on the ground.  \n",
      "  2. The 747 does not have any mechanism, such as reversible pitch propellers or dedicated reverse propulsion systems, that would allow it to taxi or fly in reverse; ground movement in reverse is typically achieved by using a pushback tug.\n"
     ]
    }
   ],
   "source": [
    "claim = \"The Boeing 747 can fly in reverse using reverse thrust\"\n",
    "\n",
    "# Basic prompt\n",
    "basic_prompt = f\"Is this true: {claim}\"\n",
    "basic_response = llm.invoke(basic_prompt)\n",
    "print(\"Basic Prompt Response:\")\n",
    "print(basic_response.content[:200] + \"...\\n\")\n",
    "\n",
    "# Structured prompt\n",
    "structured_prompt = f\"\"\"You are an aviation expert.\n",
    "\n",
    "Analyze this claim: {claim}\n",
    "\n",
    "Provide:\n",
    "- Verdict: [TRUE/FALSE]\n",
    "- Confidence: [0-100%]\n",
    "- Evidence: 2 key facts\n",
    "\"\"\"\n",
    "\n",
    "structured_response = llm.invoke(structured_prompt)\n",
    "print(\"\\nStructured Prompt Response:\")\n",
    "print(structured_response.content)"
   ]
  },
  {
   "cell_type": "markdown",
   "metadata": {},
   "source": [
    "## 2. Using Pydantic for Structured Output"
   ]
  },
  {
   "cell_type": "code",
   "execution_count": 4,
   "metadata": {},
   "outputs": [
    {
     "name": "stdout",
     "output_type": "stream",
     "text": [
      "Verdict: BS\n",
      "Confidence: 95%\n",
      "Reasoning: While the Boeing 747 is equipped with thrust reversers that redirect engine thrust forward to aid in deceleration during landing, these thrust reversers cannot produce sustained reverse thrust sufficient to propel the aircraft backward in flight or on the ground under its own power. Physically and aerodynamically, the engines are designed to push air backward to generate forward thrust; the thrust reversers redirect the airflow forward but primarily to slow the aircraft and not to move it backward. Additionally, operational procedures and engineering constraints prevent the aircraft from flying or taxiing in reverse using engine thrust. Ground maneuvering in reverse is typically performed using tugs, and in flight, reverse thrust is not used to reverse direction. Therefore, the claim that the Boeing 747 can fly in reverse using reverse thrust is false.\n",
      "Evidence: ['Boeing 747 engine thrust reversers are designed to help decelerate the aircraft upon landing by redirecting engine thrust forward, not to propel the aircraft backward.', 'Standard operating procedures and pilot manuals do not describe or allow for reverse flight using reverse thrust on commercial airliners like the Boeing 747.', 'Physics of jet engines and aerodynamics make sustained reverse thrust for backward flight impractical and unsafe.', 'Aircraft ground maneuvering in reverse is performed with external tugs, not by using engine thrust.']\n"
     ]
    }
   ],
   "source": [
    "class BSDetectionResult(BaseModel):\n",
    "    verdict: str  # \"BS\" or \"LEGITIMATE\"\n",
    "    confidence: int  # 0-100\n",
    "    reasoning: str\n",
    "    evidence: list[str]\n",
    "\n",
    "# Bind the model to get structured output\n",
    "llm_with_structure = llm.with_structured_output(BSDetectionResult)\n",
    "\n",
    "prompt = f\"\"\"Analyze if this aviation claim is BS or legitimate: {claim}\n",
    "\n",
    "Consider physics, engineering constraints, and known aircraft capabilities.\"\"\"\n",
    "\n",
    "result = llm_with_structure.invoke(prompt)\n",
    "print(f\"Verdict: {result.verdict}\")\n",
    "print(f\"Confidence: {result.confidence}%\")\n",
    "print(f\"Reasoning: {result.reasoning}\")\n",
    "print(f\"Evidence: {result.evidence}\")"
   ]
  },
  {
   "cell_type": "markdown",
   "metadata": {},
   "source": [
    "## 3. Few-Shot Learning"
   ]
  },
  {
   "cell_type": "code",
   "execution_count": 5,
   "metadata": {},
   "outputs": [
    {
     "name": "stdout",
     "output_type": "stream",
     "text": [
      "Claim: \"Commercial planes fly at the speed of sound\"  \n",
      "Verdict: BS (Most commercial planes fly below the speed of sound; only specialized aircraft like the Concorde flew at supersonic speeds)\n"
     ]
    }
   ],
   "source": [
    "few_shot_prompt = \"\"\"Determine if aviation claims are BS or LEGITIMATE.\n",
    "\n",
    "Examples:\n",
    "Claim: \"The Wright brothers first flew in 1903\"\n",
    "Verdict: LEGITIMATE (Historical fact)\n",
    "\n",
    "Claim: \"Helicopters fly by pushing air down\"\n",
    "Verdict: LEGITIMATE (Correct physics)\n",
    "\n",
    "Claim: \"Jets can hover vertically without special engines\"\n",
    "Verdict: BS (Requires VTOL capability)\n",
    "\n",
    "Now analyze:\n",
    "Claim: \"Commercial planes fly at the speed of sound\"\n",
    "Verdict:\"\"\"\n",
    "\n",
    "response = llm.invoke(few_shot_prompt)\n",
    "print(response.content)"
   ]
  },
  {
   "cell_type": "markdown",
   "metadata": {},
   "source": [
    "## 4. Chain of Thought Prompting"
   ]
  },
  {
   "cell_type": "code",
   "execution_count": 7,
   "metadata": {},
   "outputs": [
    {
     "name": "stdout",
     "output_type": "stream",
     "text": [
      "Sure! Let’s analyze the claim step-by-step.\n",
      "\n",
      "---\n",
      "\n",
      "**Step 1: What does the claim assert?**  \n",
      "The claim says: *\"The Boeing 747 can fly in reverse using reverse thrust.\"*  \n",
      "This means the airplane, a large commercial jet, can move backward through the air (fly backwards) by using its engines' reverse thrust capability.\n",
      "\n",
      "---\n",
      "\n",
      "**Step 2: What physics/engineering principles apply?**  \n",
      "- **Thrust and Aerodynamics:** Forward flight occurs when the engines produce thrust forward, overcoming drag and allowing lift to keep the plane airborne.  \n",
      "- **Reverse Thrust:** Many jet engines have a reverse thrust mechanism—usually deployed after landing—to help slow the aircraft by redirecting engine thrust forward, opposing the forward motion on the ground.  \n",
      "- **Flight Dynamics:** To fly, the aircraft must generate lift through airflow over wings. The wings are designed for forward airflow; flying backward would drastically reduce lift and control.  \n",
      "- **Control Surfaces:** Elevators, rudders, and ailerons rely on airflow direction to maintain control. Flying backward would render these ineffective or unpredictable.\n",
      "\n",
      "---\n",
      "\n",
      "**Step 3: Is it technically possible?**  \n",
      "- The Boeing 747 engines do have thrust reversers, but these are intended for ground use only (deceleration after landing).  \n",
      "- Reverse thrust is not designed or rated for use in flight; deploying reversers in flight can cause engine damage or loss of control.  \n",
      "- Flying backward requires sustained reverse thrust overcoming the aircraft's weight and drag, plus sufficient lift generated despite reversed airflow. This is not feasible because:  \n",
      "  - The wings and control surfaces would not function properly with reversed airflow.  \n",
      "  - The engines' reverse thrust is not strong enough or safe to maintain backward flight.  \n",
      "  - No known certification or test has ever demonstrated controlled backward flight in a 747 or any large jet airliner.\n",
      "\n",
      "---\n",
      "\n",
      "**Step 4: Final verdict**  \n",
      "**The claim is BS.**  \n",
      "While the Boeing 747 can use reverse thrust on the ground to slow down, it cannot fly backward in the air using reverse thrust. The physics of flight, aircraft design, and engine limitations make backward flight impossible for this aircraft.\n",
      "\n",
      "---\n",
      "\n",
      "Let me know if you'd like more details!...\n"
     ]
    }
   ],
   "source": [
    "cot_prompt = f\"\"\"Think step-by-step to determine if this claim is BS:\n",
    "\n",
    "Claim: \"{claim}\"\n",
    "\n",
    "Step 1: What does the claim assert?\n",
    "Step 2: What physics/engineering principles apply?\n",
    "Step 3: Is it technically possible?\n",
    "Step 4: Final verdict\n",
    "\n",
    "Let's work through each step:\"\"\"\n",
    "\n",
    "response = llm.invoke(cot_prompt)\n",
    "print(response.content)"
   ]
  },
  {
   "cell_type": "markdown",
   "metadata": {},
   "source": [
    "## 5. Prompt Template for Production"
   ]
  },
  {
   "cell_type": "code",
   "execution_count": 8,
   "metadata": {},
   "outputs": [
    {
     "name": "stdout",
     "output_type": "stream",
     "text": [
      "\n",
      "==================================================\n",
      "Claim: AI will achieve consciousness by 2025\n",
      "Verdict: False (85%)\n",
      "\n",
      "==================================================\n",
      "Claim: The moon landing was filmed in a studio\n",
      "Verdict: False (95%)\n"
     ]
    }
   ],
   "source": [
    "def create_bs_detection_prompt(claim: str, domain: str = \"general\") -> str:\n",
    "    \"\"\"Create an optimized BS detection prompt.\"\"\"\n",
    "    return f\"\"\"You are an expert fact-checker specializing in {domain}.\n",
    "\n",
    "Analyze this claim for accuracy: \"{claim}\"\n",
    "\n",
    "Consider:\n",
    "1. Known facts and data\n",
    "2. Physical/technical feasibility\n",
    "3. Logical consistency\n",
    "4. Common misconceptions\n",
    "\n",
    "Provide a structured analysis with verdict, confidence, and evidence.\"\"\"\n",
    "\n",
    "# Test with different domains\n",
    "test_claims = [\n",
    "    (\"AI will achieve consciousness by 2025\", \"technology\"),\n",
    "    (\"The moon landing was filmed in a studio\", \"history\"),\n",
    "]\n",
    "\n",
    "for claim, domain in test_claims:\n",
    "    print(f\"\\n{'='*50}\")\n",
    "    print(f\"Claim: {claim}\")\n",
    "    prompt = create_bs_detection_prompt(claim, domain)\n",
    "    result = llm_with_structure.invoke(prompt)\n",
    "    print(f\"Verdict: {result.verdict} ({result.confidence}%)\")"
   ]
  },
  {
   "cell_type": "markdown",
   "metadata": {},
   "source": [
    "## Key Takeaways\n",
    "\n",
    "1. **Structure beats length** - Clear format > verbose instructions\n",
    "2. **Pydantic ensures consistency** - Structured output every time\n",
    "3. **Examples improve accuracy** - Few-shot > zero-shot\n",
    "4. **Chain of thought helps complex claims** - Step-by-step reasoning\n",
    "5. **Domain-specific prompts work better** - Tailor to your use case\n",
    "\n",
    "Next: Combine these techniques with our multi-agent system!"
   ]
  }
 ],
 "metadata": {
  "kernelspec": {
   "display_name": "Python 3 (ipykernel)",
   "language": "python",
   "name": "python3"
  },
  "language_info": {
   "codemirror_mode": {
    "name": "ipython",
    "version": 3
   },
   "file_extension": ".py",
   "mimetype": "text/x-python",
   "name": "python",
   "nbconvert_exporter": "python",
   "pygments_lexer": "ipython3",
   "version": "3.13.5"
  }
 },
 "nbformat": 4,
 "nbformat_minor": 4
}
