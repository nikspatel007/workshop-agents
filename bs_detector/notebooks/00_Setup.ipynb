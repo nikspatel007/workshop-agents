{
 "cells": [
  {
   "cell_type": "markdown",
   "metadata": {},
   "source": [
    "# Iteration 0: Environment Setup Verification\n",
    "\n",
    "This notebook verifies that your environment is correctly set up for the BS Detector workshop."
   ]
  },
  {
   "cell_type": "code",
   "execution_count": null,
   "metadata": {},
   "outputs": [],
   "source": "# Add parent directory to path\nimport sys\nsys.path.append('..')\n\n# Import our modules\nfrom config.llm_factory import LLMFactory\nfrom config.settings import detect_environment, get_settings\nfrom tools import tool_registry\nfrom tools.mock_search import search_aviation_facts"
  },
  {
   "cell_type": "markdown",
   "metadata": {},
   "source": [
    "## 1. Environment Detection"
   ]
  },
  {
   "cell_type": "code",
   "execution_count": null,
   "metadata": {},
   "outputs": [],
   "source": [
    "# Detect environment\n",
    "env = detect_environment()\n",
    "print(f\"Detected environment: {env}\")\n",
    "\n",
    "# Get all settings\n",
    "settings = get_settings()\n",
    "print(\"\\nEnvironment settings:\")\n",
    "for key, value in settings.items():\n",
    "    print(f\"  {key}: {value}\")"
   ]
  },
  {
   "cell_type": "markdown",
   "metadata": {},
   "source": [
    "## 2. LLM Factory Test"
   ]
  },
  {
   "cell_type": "code",
   "execution_count": null,
   "metadata": {},
   "outputs": [],
   "source": [
    "# Test LLM creation\n",
    "try:\n",
    "    llm = LLMFactory.create_llm()\n",
    "    print(f\"✓ Successfully created LLM: {llm.__class__.__name__}\")\n",
    "    \n",
    "    # Test with a simple prompt\n",
    "    response = llm.invoke(\"Say 'Hello, BS Detector Workshop!'\")\n",
    "    print(f\"\\nLLM Response: {response.content}\")\n",
    "except Exception as e:\n",
    "    print(f\"✗ Error creating LLM: {e}\")\n",
    "    print(\"\\nMake sure you have:\")\n",
    "    print(\"1. Created a .env file from .env.example\")\n",
    "    print(\"2. Added your API keys to the .env file\")"
   ]
  },
  {
   "cell_type": "markdown",
   "metadata": {},
   "source": "## 3. Simple Search Tool Test"
  },
  {
   "cell_type": "code",
   "execution_count": null,
   "metadata": {},
   "outputs": [],
   "source": "from tools.simple_search import SimpleSearchTool, search_aviation\n\n# Create search tool\nsearch_tool = SimpleSearchTool()\nprint(\"✓ Simple search tool created\")\n\n# Test search\nprint(\"\\nTesting search for 'Boeing 747':\")\nresults = search_tool.search(\"Boeing 747\")\nfor result in results:\n    print(f\"\\n{result['title']}:\")\n    for fact in result['facts'][:3]:\n        print(f\"  - {fact}\")\n\n# Test LangChain-compatible function\nprint(\"\\n\\nLangChain-compatible search:\")\nprint(search_aviation(\"Concorde specifications\"))"
  },
  {
   "cell_type": "markdown",
   "metadata": {},
   "source": [
    "## 4. Performance Benchmark"
   ]
  },
  {
   "cell_type": "code",
   "execution_count": null,
   "metadata": {},
   "outputs": [],
   "source": [
    "import time\n",
    "\n",
    "# Benchmark LLM factory creation\n",
    "start = time.time()\n",
    "llm = LLMFactory.create_llm()\n",
    "end = time.time()\n",
    "\n",
    "print(f\"LLM factory creation time: {(end - start)*1000:.2f}ms\")\n",
    "print(f\"Target: < 100ms {'✓' if (end - start)*1000 < 100 else '✗'}\")"
   ]
  },
  {
   "cell_type": "markdown",
   "metadata": {},
   "source": [
    "## 5. Module Import Test"
   ]
  },
  {
   "cell_type": "code",
   "execution_count": null,
   "metadata": {},
   "outputs": [],
   "source": [
    "# Test all imports\n",
    "modules_to_test = [\n",
    "    (\"config.llm_factory\", \"LLMFactory\"),\n",
    "    (\"config.settings\", \"detect_environment\"),\n",
    "    (\"tools.mcp_client\", \"MCPClient\"),\n",
    "]\n",
    "\n",
    "print(\"Module import test:\")\n",
    "for module_name, class_name in modules_to_test:\n",
    "    try:\n",
    "        module = __import__(module_name, fromlist=[class_name])\n",
    "        print(f\"✓ {module_name}\")\n",
    "    except ImportError as e:\n",
    "        print(f\"✗ {module_name}: {e}\")"
   ]
  },
  {
   "cell_type": "markdown",
   "metadata": {},
   "source": [
    "## Summary\n",
    "\n",
    "If all tests passed, you're ready to proceed to Iteration 1!\n",
    "\n",
    "### Checklist:\n",
    "- [ ] Environment correctly detected\n",
    "- [ ] LLM factory creates instances\n",
    "- [ ] LLM responds to prompts\n",
    "- [ ] MCP client initializes\n",
    "- [ ] Performance targets met\n",
    "- [ ] All modules import successfully"
   ]
  }
 ],
 "metadata": {
  "kernelspec": {
   "display_name": "Python 3",
   "language": "python",
   "name": "python3"
  },
  "language_info": {
   "codemirror_mode": {
    "name": "ipython",
    "version": 3
   },
   "file_extension": ".py",
   "mimetype": "text/x-python",
   "name": "python",
   "nbconvert_exporter": "python",
   "pygments_lexer": "ipython3",
   "version": "3.8.0"
  }
 },
 "nbformat": 4,
 "nbformat_minor": 4
}