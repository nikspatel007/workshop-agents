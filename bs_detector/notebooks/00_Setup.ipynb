{
 "cells": [
  {
   "cell_type": "markdown",
   "metadata": {},
   "source": [
    "# Setup and Environment Check\n",
    "\n",
    "This notebook verifies your environment is ready for the BS Detector workshop."
   ]
  },
  {
   "cell_type": "code",
   "execution_count": null,
   "metadata": {},
   "outputs": [],
   "source": [
    "# Check Python version\n",
    "import sys\n",
    "print(f\"Python {sys.version}\")\n",
    "print(\"✅ Python 3.9+ required\" if sys.version_info >= (3, 9) else \"❌ Please upgrade to Python 3.9+\")"
   ]
  },
  {
   "cell_type": "code",
   "execution_count": null,
   "metadata": {},
   "outputs": [],
   "source": [
    "# Check required packages\n",
    "packages = [\"langchain\", \"langgraph\", \"pydantic\", \"langchain_openai\"]\n",
    "missing = []\n",
    "\n",
    "for pkg in packages:\n",
    "    try:\n",
    "        __import__(pkg)\n",
    "        print(f\"✅ {pkg}\")\n",
    "    except ImportError:\n",
    "        print(f\"❌ {pkg}\")\n",
    "        missing.append(pkg)\n",
    "\n",
    "if missing:\n",
    "    print(f\"\\nRun: pip install -r ../requirements.txt\")"
   ]
  },
  {
   "cell_type": "code",
   "execution_count": null,
   "metadata": {},
   "outputs": [],
   "source": [
    "# Check LLM configuration\n",
    "import os\n",
    "from dotenv import load_dotenv\n",
    "\n",
    "load_dotenv(\"../.env\")\n",
    "\n",
    "providers = {\n",
    "    \"OpenAI\": \"OPENAI_API_KEY\",\n",
    "    \"Anthropic\": \"ANTHROPIC_API_KEY\",\n",
    "    \"LM Studio\": \"LMSTUDIO_BASE_URL\"\n",
    "}\n",
    "\n",
    "configured = [p for p, key in providers.items() if os.getenv(key)]\n",
    "print(f\"Configured providers: {', '.join(configured) if configured else 'None'}\")\n",
    "\n",
    "if not configured:\n",
    "    print(\"\\n⚠️  No LLM providers configured!\")\n",
    "    print(\"1. Copy .env.example to .env\")\n",
    "    print(\"2. Add your API keys\")"
   ]
  },
  {
   "cell_type": "code",
   "execution_count": null,
   "metadata": {},
   "outputs": [],
   "source": [
    "# Test LLM connection\n",
    "sys.path.append('..')\n",
    "from config.llm_factory import LLMFactory\n",
    "\n",
    "try:\n",
    "    llm = LLMFactory.create_llm()\n",
    "    response = llm.invoke(\"Say 'Hello Workshop!' if you can hear me.\")\n",
    "    print(f\"✅ LLM connected: {response.content}\")\n",
    "except Exception as e:\n",
    "    print(f\"❌ LLM connection failed: {e}\")\n",
    "    print(\"\\nCheck your API keys and network connection.\")"
   ]
  },
  {
   "cell_type": "markdown",
   "metadata": {},
   "source": [
    "## Ready to Start!\n",
    "\n",
    "If all checks passed, you're ready to build the BS Detector:\n",
    "1. Open **01_Baseline.ipynb** to start with a simple LLM-based detector\n",
    "2. Each notebook builds on the previous one\n",
    "3. Have fun learning LangGraph! 🚀"
   ]
  }
 ],
 "metadata": {
  "kernelspec": {
   "display_name": "Python 3",
   "language": "python",
   "name": "python3"
  },
  "language_info": {
   "codemirror_mode": {
    "name": "ipython",
    "version": 3
   },
   "file_extension": ".py",
   "mimetype": "text/x-python",
   "name": "python",
   "nbconvert_exporter": "python",
   "pygments_lexer": "ipython3",
   "version": "3.9.0"
  }
 },
 "nbformat": 4,
 "nbformat_minor": 4
}