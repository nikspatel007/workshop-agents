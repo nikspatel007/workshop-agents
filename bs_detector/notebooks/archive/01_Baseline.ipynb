{
 "cells": [
  {
   "cell_type": "markdown",
   "metadata": {},
   "source": [
    "# Iteration 1: Baseline BS Detector\n",
    "\n",
    "This notebook demonstrates the baseline BS detector using a single LLM call with prompt engineering.\n",
    "\n",
    "## Learning Objectives\n",
    "- Understand prompt engineering for claim verification\n",
    "- Analyze response parsing techniques\n",
    "- Establish performance baselines\n",
    "- Explore failure modes"
   ]
  },
  {
   "cell_type": "markdown",
   "metadata": {},
   "source": [
    "## 1. Setup and Imports"
   ]
  },
  {
   "cell_type": "code",
   "execution_count": 11,
   "metadata": {},
   "outputs": [
    {
     "name": "stdout",
     "output_type": "stream",
     "text": [
      "Using LLM provider: ChatOpenAI\n"
     ]
    }
   ],
   "source": [
    "import sys\n",
    "sys.path.append('..')\n",
    "\n",
    "from modules.m1_baseline import check_claim, check_claim_batch, BSDetectorOutput\n",
    "from config.llm_factory import LLMFactory\n",
    "import pandas as pd\n",
    "import matplotlib.pyplot as plt\n",
    "import numpy as np\n",
    "import time\n",
    "from IPython.display import display, HTML\n",
    "\n",
    "# Create LLM instance - will automatically load .env\n",
    "llm = LLMFactory.create_llm()\n",
    "print(f\"Using LLM provider: {llm.__class__.__name__}\")"
   ]
  },
  {
   "cell_type": "markdown",
   "metadata": {},
   "source": [
    "## 2. Test Individual Claims\n",
    "\n",
    "Let's test the BS detector with various aviation claims."
   ]
  },
  {
   "cell_type": "code",
   "execution_count": 12,
   "metadata": {},
   "outputs": [],
   "source": [
    "# Define test claims\n",
    "test_claims = {\n",
    "    \"legitimate\": [\n",
    "        \"The Boeing 747 has four engines\",\n",
    "        \"Pilots must have a commercial license to fly passengers\",\n",
    "        \"Aircraft use altimeters to measure altitude\",\n",
    "        \"The Airbus A380 is the world's largest passenger airliner\",\n",
    "        \"Jet fuel is a type of aviation turbine fuel\"\n",
    "    ],\n",
    "    \"bs\": [\n",
    "        \"Commercial planes can fly to the moon\",\n",
    "        \"Airlines spray chemtrails for weather control\",\n",
    "        \"Pilots can open windows during flight at cruising altitude\",\n",
    "        \"The Boeing 747 can hover like a helicopter\",\n",
    "        \"Passenger planes regularly fly faster than the speed of sound\"\n",
    "    ]\n",
    "}"
   ]
  },
  {
   "cell_type": "code",
   "execution_count": 13,
   "metadata": {},
   "outputs": [
    {
     "name": "stdout",
     "output_type": "stream",
     "text": [
      "\n",
      "==================================================\n",
      "LEGITIMATE CLAIMS\n",
      "==================================================\n"
     ]
    },
    {
     "data": {
      "text/html": [
       "\n",
       "    <div style=\"border: 2px solid green; padding: 10px; margin: 10px 0; border-radius: 5px;\">\n",
       "        <strong>Claim:</strong> The Boeing 747 has four engines<br>\n",
       "        <strong>Verdict:</strong> <span style=\"color: green; font-weight: bold;\">LEGITIMATE</span> \n",
       "        (Confidence: 100%)<br>\n",
       "        <strong>Reasoning:</strong> The Boeing 747 is a large, long-range wide-body airliner that is well-known for having four engines mounted under its wings, which is a defining characteristic of this aircraft.\n",
       "    </div>\n",
       "    "
      ],
      "text/plain": [
       "<IPython.core.display.HTML object>"
      ]
     },
     "metadata": {},
     "output_type": "display_data"
    },
    {
     "data": {
      "text/html": [
       "\n",
       "    <div style=\"border: 2px solid green; padding: 10px; margin: 10px 0; border-radius: 5px;\">\n",
       "        <strong>Claim:</strong> Pilots must have a commercial license to fly passengers<br>\n",
       "        <strong>Verdict:</strong> <span style=\"color: green; font-weight: bold;\">LEGITIMATE</span> \n",
       "        (Confidence: 95%)<br>\n",
       "        <strong>Reasoning:</strong> To legally carry passengers and receive compensation, pilots generally must hold at least a commercial pilot license, which authorizes them for commercial operations beyond private flying.\n",
       "    </div>\n",
       "    "
      ],
      "text/plain": [
       "<IPython.core.display.HTML object>"
      ]
     },
     "metadata": {},
     "output_type": "display_data"
    },
    {
     "data": {
      "text/html": [
       "\n",
       "    <div style=\"border: 2px solid green; padding: 10px; margin: 10px 0; border-radius: 5px;\">\n",
       "        <strong>Claim:</strong> Aircraft use altimeters to measure altitude<br>\n",
       "        <strong>Verdict:</strong> <span style=\"color: green; font-weight: bold;\">LEGITIMATE</span> \n",
       "        (Confidence: 95%)<br>\n",
       "        <strong>Reasoning:</strong> Altimeters are standard aviation instruments that measure altitude by detecting atmospheric pressure changes, which is a widely accepted and fundamental practice in aviation.\n",
       "    </div>\n",
       "    "
      ],
      "text/plain": [
       "<IPython.core.display.HTML object>"
      ]
     },
     "metadata": {},
     "output_type": "display_data"
    },
    {
     "data": {
      "text/html": [
       "\n",
       "    <div style=\"border: 2px solid green; padding: 10px; margin: 10px 0; border-radius: 5px;\">\n",
       "        <strong>Claim:</strong> The Airbus A380 is the world's largest passenger airliner<br>\n",
       "        <strong>Verdict:</strong> <span style=\"color: green; font-weight: bold;\">LEGITIMATE</span> \n",
       "        (Confidence: 95%)<br>\n",
       "        <strong>Reasoning:</strong> The Airbus A380 is widely recognized as the world's largest passenger airliner, featuring two full-length passenger decks and a maximum capacity exceeding other commercial aircraft.\n",
       "    </div>\n",
       "    "
      ],
      "text/plain": [
       "<IPython.core.display.HTML object>"
      ]
     },
     "metadata": {},
     "output_type": "display_data"
    },
    {
     "data": {
      "text/html": [
       "\n",
       "    <div style=\"border: 2px solid green; padding: 10px; margin: 10px 0; border-radius: 5px;\">\n",
       "        <strong>Claim:</strong> Jet fuel is a type of aviation turbine fuel<br>\n",
       "        <strong>Verdict:</strong> <span style=\"color: green; font-weight: bold;\">LEGITIMATE</span> \n",
       "        (Confidence: 95%)<br>\n",
       "        <strong>Reasoning:</strong> Jet fuel is indeed a type of aviation turbine fuel commonly used in turbine-engine aircraft such as jets and turboprops, making the claim accurate and reasonable.\n",
       "    </div>\n",
       "    "
      ],
      "text/plain": [
       "<IPython.core.display.HTML object>"
      ]
     },
     "metadata": {},
     "output_type": "display_data"
    },
    {
     "name": "stdout",
     "output_type": "stream",
     "text": [
      "\n",
      "==================================================\n",
      "BS CLAIMS\n",
      "==================================================\n"
     ]
    },
    {
     "data": {
      "text/html": [
       "\n",
       "    <div style=\"border: 2px solid red; padding: 10px; margin: 10px 0; border-radius: 5px;\">\n",
       "        <strong>Claim:</strong> Commercial planes can fly to the moon<br>\n",
       "        <strong>Verdict:</strong> <span style=\"color: red; font-weight: bold;\">BS</span> \n",
       "        (Confidence: 98%)<br>\n",
       "        <strong>Reasoning:</strong> Commercial planes are designed for atmospheric flight and rely on air for lift and engine combustion; they cannot operate in space where there is no atmosphere, thus they cannot fly to the moon.\n",
       "    </div>\n",
       "    "
      ],
      "text/plain": [
       "<IPython.core.display.HTML object>"
      ]
     },
     "metadata": {},
     "output_type": "display_data"
    },
    {
     "data": {
      "text/html": [
       "\n",
       "    <div style=\"border: 2px solid red; padding: 10px; margin: 10px 0; border-radius: 5px;\">\n",
       "        <strong>Claim:</strong> Airlines spray chemtrails for weather control<br>\n",
       "        <strong>Verdict:</strong> <span style=\"color: red; font-weight: bold;\">BS</span> \n",
       "        (Confidence: 95%)<br>\n",
       "        <strong>Reasoning:</strong> The concept of 'chemtrails' as deliberate spraying by airlines for weather control is a widely debunked conspiracy theory with no credible scientific evidence; contrails are simply water vapor condensation from aircraft engines under specific atmospheric conditions.\n",
       "    </div>\n",
       "    "
      ],
      "text/plain": [
       "<IPython.core.display.HTML object>"
      ]
     },
     "metadata": {},
     "output_type": "display_data"
    },
    {
     "data": {
      "text/html": [
       "\n",
       "    <div style=\"border: 2px solid red; padding: 10px; margin: 10px 0; border-radius: 5px;\">\n",
       "        <strong>Claim:</strong> Pilots can open windows during flight at cruising altitude<br>\n",
       "        <strong>Verdict:</strong> <span style=\"color: red; font-weight: bold;\">BS</span> \n",
       "        (Confidence: 95%)<br>\n",
       "        <strong>Reasoning:</strong> Aircraft cabins are pressurized at cruising altitude, and windows are sealed to maintain pressure and safety; pilots cannot open windows during flight without causing catastrophic decompression.\n",
       "    </div>\n",
       "    "
      ],
      "text/plain": [
       "<IPython.core.display.HTML object>"
      ]
     },
     "metadata": {},
     "output_type": "display_data"
    },
    {
     "data": {
      "text/html": [
       "\n",
       "    <div style=\"border: 2px solid red; padding: 10px; margin: 10px 0; border-radius: 5px;\">\n",
       "        <strong>Claim:</strong> The Boeing 747 can hover like a helicopter<br>\n",
       "        <strong>Verdict:</strong> <span style=\"color: red; font-weight: bold;\">BS</span> \n",
       "        (Confidence: 95%)<br>\n",
       "        <strong>Reasoning:</strong> The Boeing 747 is a fixed-wing aircraft that requires forward airspeed to generate lift and cannot hover. Only helicopters and some VTOL aircraft can hover, making this claim false.\n",
       "    </div>\n",
       "    "
      ],
      "text/plain": [
       "<IPython.core.display.HTML object>"
      ]
     },
     "metadata": {},
     "output_type": "display_data"
    },
    {
     "data": {
      "text/html": [
       "\n",
       "    <div style=\"border: 2px solid red; padding: 10px; margin: 10px 0; border-radius: 5px;\">\n",
       "        <strong>Claim:</strong> Passenger planes regularly fly faster than the speed of sound<br>\n",
       "        <strong>Verdict:</strong> <span style=\"color: red; font-weight: bold;\">BS</span> \n",
       "        (Confidence: 95%)<br>\n",
       "        <strong>Reasoning:</strong> Passenger planes, such as commercial airliners, typically cruise at subsonic speeds around Mach 0.8 to 0.85 and do not regularly exceed the speed of sound; supersonic passenger flights like Concorde were rare and are no longer in service.\n",
       "    </div>\n",
       "    "
      ],
      "text/plain": [
       "<IPython.core.display.HTML object>"
      ]
     },
     "metadata": {},
     "output_type": "display_data"
    }
   ],
   "source": [
    "# Check each claim and display results\n",
    "def display_result(claim, result):\n",
    "    \"\"\"Display result in a formatted way\"\"\"\n",
    "    color = \"green\" if result['verdict'] == 'LEGITIMATE' else \"red\" if result['verdict'] == 'BS' else \"orange\"\n",
    "    html = f\"\"\"\n",
    "    <div style=\"border: 2px solid {color}; padding: 10px; margin: 10px 0; border-radius: 5px;\">\n",
    "        <strong>Claim:</strong> {claim}<br>\n",
    "        <strong>Verdict:</strong> <span style=\"color: {color}; font-weight: bold;\">{result['verdict']}</span> \n",
    "        (Confidence: {result['confidence']}%)<br>\n",
    "        <strong>Reasoning:</strong> {result['reasoning']}\n",
    "    </div>\n",
    "    \"\"\"\n",
    "    display(HTML(html))\n",
    "\n",
    "# Test claims\n",
    "for category, claims in test_claims.items():\n",
    "    print(f\"\\n{'='*50}\")\n",
    "    print(f\"{category.upper()} CLAIMS\")\n",
    "    print(f\"{'='*50}\")\n",
    "    \n",
    "    for claim in claims:\n",
    "        result = check_claim(claim, llm)\n",
    "        display_result(claim, result)"
   ]
  },
  {
   "cell_type": "markdown",
   "metadata": {},
   "source": [
    "## 3. Performance Analysis\n",
    "\n",
    "Let's analyze the performance of our BS detector."
   ]
  },
  {
   "cell_type": "code",
   "execution_count": 14,
   "metadata": {},
   "outputs": [
    {
     "name": "stdout",
     "output_type": "stream",
     "text": [
      "Testing performance...\n",
      "\n",
      "Tested 10 claims\n"
     ]
    }
   ],
   "source": [
    "# Measure response times and accuracy\n",
    "times = []\n",
    "results = []\n",
    "\n",
    "print(\"Testing performance...\")\n",
    "for category, claims in test_claims.items():\n",
    "    for claim in claims:\n",
    "        start = time.time()\n",
    "        result = check_claim(claim, llm)\n",
    "        elapsed = time.time() - start\n",
    "        \n",
    "        times.append(elapsed)\n",
    "        results.append({\n",
    "            'claim': claim[:50] + '...' if len(claim) > 50 else claim,\n",
    "            'expected': category.upper(),\n",
    "            'verdict': result['verdict'],\n",
    "            'confidence': result['confidence'],\n",
    "            'time': elapsed,\n",
    "            'correct': (category == 'bs' and result['verdict'] == 'BS') or \n",
    "                      (category == 'legitimate' and result['verdict'] == 'LEGITIMATE')\n",
    "        })\n",
    "\n",
    "# Create DataFrame\n",
    "df = pd.DataFrame(results)\n",
    "print(f\"\\nTested {len(df)} claims\")"
   ]
  },
  {
   "cell_type": "code",
   "execution_count": 15,
   "metadata": {},
   "outputs": [
    {
     "data": {
      "image/png": "[encoded data removed]",
      "text/plain": [
       "<Figure size 1200x1000 with 4 Axes>"
      ]
     },
     "metadata": {},
     "output_type": "display_data"
    },
    {
     "name": "stdout",
     "output_type": "stream",
     "text": [
      "\n",
      "📊 Performance Summary:\n",
      "Average response time: 1.47s (Target: <2s)\n",
      "Max response time: 4.58s\n",
      "Min response time: 0.81s\n",
      "\n",
      "Accuracy: 100.0%\n",
      "Success rate (no errors): 100.0%\n",
      "\n",
      "Average confidence when correct: 95.0%\n",
      "Average confidence when incorrect: nan%\n"
     ]
    }
   ],
   "source": [
    "# Visualize results\n",
    "fig, ((ax1, ax2), (ax3, ax4)) = plt.subplots(2, 2, figsize=(12, 10))\n",
    "\n",
    "# 1. Response time distribution\n",
    "ax1.hist(times, bins=15, edgecolor='black', alpha=0.7)\n",
    "ax1.axvline(x=2.0, color='r', linestyle='--', label='Target: 2s')\n",
    "ax1.set_xlabel('Response Time (seconds)')\n",
    "ax1.set_ylabel('Count')\n",
    "ax1.set_title('Response Time Distribution')\n",
    "ax1.legend()\n",
    "\n",
    "# 2. Confidence by verdict\n",
    "df_valid = df[df['verdict'].isin(['BS', 'LEGITIMATE'])]\n",
    "df_valid.boxplot(column='confidence', by='verdict', ax=ax2)\n",
    "ax2.set_xlabel('Verdict')\n",
    "ax2.set_ylabel('Confidence %')\n",
    "ax2.set_title('Confidence Distribution by Verdict')\n",
    "\n",
    "# 3. Accuracy metrics\n",
    "accuracy = df['correct'].mean()\n",
    "ax3.bar(['Correct', 'Incorrect'], \n",
    "        [df['correct'].sum(), (~df['correct']).sum()],\n",
    "        color=['green', 'red'])\n",
    "ax3.set_ylabel('Number of Claims')\n",
    "ax3.set_title(f'Classification Accuracy: {accuracy:.1%}')\n",
    "\n",
    "# 4. Confidence vs Correctness\n",
    "correct_conf = df[df['correct']]['confidence'].mean()\n",
    "incorrect_conf = df[~df['correct']]['confidence'].mean()\n",
    "ax4.bar(['Correct', 'Incorrect'], \n",
    "        [correct_conf, incorrect_conf],\n",
    "        color=['green', 'red'])\n",
    "ax4.set_ylabel('Average Confidence %')\n",
    "ax4.set_title('Average Confidence by Correctness')\n",
    "\n",
    "plt.tight_layout()\n",
    "plt.show()\n",
    "\n",
    "# Print summary statistics\n",
    "print(f\"\\n📊 Performance Summary:\")\n",
    "print(f\"Average response time: {np.mean(times):.2f}s (Target: <2s)\")\n",
    "print(f\"Max response time: {max(times):.2f}s\")\n",
    "print(f\"Min response time: {min(times):.2f}s\")\n",
    "print(f\"\\nAccuracy: {accuracy:.1%}\")\n",
    "print(f\"Success rate (no errors): {(df['verdict'] != 'ERROR').mean():.1%}\")\n",
    "print(f\"\\nAverage confidence when correct: {correct_conf:.1f}%\")\n",
    "print(f\"Average confidence when incorrect: {incorrect_conf:.1f}%\")"
   ]
  },
  {
   "cell_type": "markdown",
   "metadata": {},
   "source": [
    "## 4. Edge Cases and Error Handling\n",
    "\n",
    "Let's test how the system handles edge cases."
   ]
  },
  {
   "cell_type": "code",
   "execution_count": 16,
   "metadata": {},
   "outputs": [
    {
     "name": "stdout",
     "output_type": "stream",
     "text": [
      "Testing edge cases...\n",
      "\n",
      "📝 Empty claim\n",
      "   Claim: ''\n",
      "   Verdict: ERROR\n",
      "   Error: Invalid input\n",
      "\n",
      "📝 Whitespace only\n",
      "   Claim: '   '\n",
      "   Verdict: ERROR\n",
      "   Error: Invalid input\n",
      "\n",
      "📝 Very long claim\n",
      "   Claim: 'The airplane airplane airplane airplane airplane a'...\n",
      "   Verdict: BS\n",
      "\n",
      "📝 Non-English claim\n",
      "   Claim: '¿Pueden los aviones volar al revés?'\n",
      "   Verdict: LEGITIMATE\n",
      "\n",
      "📝 Minimal claim\n",
      "   Claim: '747 4 engines???'\n",
      "   Verdict: LEGITIMATE\n",
      "\n",
      "📝 Multi-line claim\n",
      "   Claim: 'The Boeing 747\\nhas four\\nengines'\n",
      "   Verdict: LEGITIMATE\n",
      "\n"
     ]
    }
   ],
   "source": [
    "# Test edge cases\n",
    "edge_cases = [\n",
    "    (\"\", \"Empty claim\"),\n",
    "    (\"   \", \"Whitespace only\"),\n",
    "    (\"The \" + \"airplane \" * 100 + \"flies\", \"Very long claim\"),\n",
    "    (\"¿Pueden los aviones volar al revés?\", \"Non-English claim\"),\n",
    "    (\"747 4 engines???\", \"Minimal claim\"),\n",
    "    (\"The Boeing 747\\nhas four\\nengines\", \"Multi-line claim\")\n",
    "]\n",
    "\n",
    "print(\"Testing edge cases...\\n\")\n",
    "for claim, description in edge_cases:\n",
    "    result = check_claim(claim, llm)\n",
    "    print(f\"📝 {description}\")\n",
    "    print(f\"   Claim: {repr(claim[:50])}{'...' if len(claim) > 50 else ''}\")\n",
    "    print(f\"   Verdict: {result['verdict']}\")\n",
    "    if result.get('error'):\n",
    "        print(f\"   Error: {result['error']}\")\n",
    "    print()"
   ]
  },
  {
   "cell_type": "markdown",
   "metadata": {},
   "source": [
    "## 5. Pydantic Model Analysis\n",
    "\n",
    "Let's examine how our Pydantic model handles structured output and validation."
   ]
  },
  {
   "cell_type": "code",
   "execution_count": 17,
   "metadata": {},
   "outputs": [
    {
     "name": "stdout",
     "output_type": "stream",
     "text": [
      "Testing Pydantic Model Validation...\n",
      "\n",
      "1. Valid Model Creation\n",
      "✓ Successfully created model\n",
      "  Model data: {'verdict': 'BS', 'confidence': 95, 'reasoning': 'Commercial aircraft cannot reach escape velocity'}\n",
      "\n",
      "2. Testing Field Validation\n",
      "✓ Correctly rejected confidence > 100\n",
      "  Error: Input should be less than or equal to 100\n",
      "✓ Correctly rejected confidence < 0\n",
      "  Error: Input should be greater than or equal to 0\n",
      "\n",
      "3. Model Field Information\n",
      "Model fields: ['verdict', 'confidence', 'reasoning']\n",
      "  verdict: BS or LEGITIMATE - whether the claim is false or true\n",
      "  confidence: Confidence percentage from 0 to 100\n",
      "  reasoning: Brief explanation for the verdict in 1-2 sentences\n",
      "\n",
      "4. Structured Output Integration\n",
      "The LLM now uses structured output to ensure valid responses:\n",
      "- verdict: Must be 'BS' or 'LEGITIMATE'\n",
      "- confidence: Must be 0-100\n",
      "- reasoning: Always provided\n"
     ]
    }
   ],
   "source": [
    "# Test Pydantic model validation\n",
    "from pydantic import ValidationError\n",
    "\n",
    "print(\"Testing Pydantic Model Validation...\\n\")\n",
    "\n",
    "# Test valid model\n",
    "print(\"1. Valid Model Creation\")\n",
    "try:\n",
    "    valid_output = BSDetectorOutput(\n",
    "        verdict=\"BS\",\n",
    "        confidence=95,\n",
    "        reasoning=\"Commercial aircraft cannot reach escape velocity\"\n",
    "    )\n",
    "    print(f\"✓ Successfully created model\")\n",
    "    print(f\"  Model data: {valid_output.model_dump()}\")\n",
    "except Exception as e:\n",
    "    print(f\"✗ Failed: {e}\")\n",
    "\n",
    "print(\"\\n2. Testing Field Validation\")\n",
    "\n",
    "# Test invalid confidence (>100)\n",
    "try:\n",
    "    invalid_high = BSDetectorOutput(\n",
    "        verdict=\"BS\",\n",
    "        confidence=150,\n",
    "        reasoning=\"Test\"\n",
    "    )\n",
    "    print(\"✗ Should have failed with confidence > 100\")\n",
    "except ValidationError as e:\n",
    "    print(\"✓ Correctly rejected confidence > 100\")\n",
    "    print(f\"  Error: {e.errors()[0]['msg']}\")\n",
    "\n",
    "# Test invalid confidence (<0)\n",
    "try:\n",
    "    invalid_low = BSDetectorOutput(\n",
    "        verdict=\"LEGITIMATE\",\n",
    "        confidence=-10,\n",
    "        reasoning=\"Test\"\n",
    "    )\n",
    "    print(\"✗ Should have failed with confidence < 0\")\n",
    "except ValidationError as e:\n",
    "    print(\"✓ Correctly rejected confidence < 0\")\n",
    "    print(f\"  Error: {e.errors()[0]['msg']}\")\n",
    "\n",
    "print(\"\\n3. Model Field Information\")\n",
    "print(f\"Model fields: {list(BSDetectorOutput.model_fields.keys())}\")\n",
    "for field_name, field_info in BSDetectorOutput.model_fields.items():\n",
    "    print(f\"  {field_name}: {field_info.description}\")\n",
    "\n",
    "print(\"\\n4. Structured Output Integration\")\n",
    "print(\"The LLM now uses structured output to ensure valid responses:\")\n",
    "print(\"- verdict: Must be 'BS' or 'LEGITIMATE'\")\n",
    "print(\"- confidence: Must be 0-100\")\n",
    "print(\"- reasoning: Always provided\")"
   ]
  },
  {
   "cell_type": "markdown",
   "metadata": {},
   "source": [
    "## 6. Batch Processing Demo\n",
    "\n",
    "For efficiency, let's process multiple claims at once."
   ]
  },
  {
   "cell_type": "code",
   "execution_count": 22,
   "metadata": {},
   "outputs": [
    {
     "name": "stdout",
     "output_type": "stream",
     "text": [
      "Processing batch of claims...\n",
      "\n"
     ]
    },
    {
     "data": {
      "text/html": [
       "<div>\n",
       "<style scoped>\n",
       "    .dataframe tbody tr th:only-of-type {\n",
       "        vertical-align: middle;\n",
       "    }\n",
       "\n",
       "    .dataframe tbody tr th {\n",
       "        vertical-align: top;\n",
       "    }\n",
       "\n",
       "    .dataframe thead th {\n",
       "        text-align: right;\n",
       "    }\n",
       "</style>\n",
       "<table border=\"1\" class=\"dataframe\">\n",
       "  <thead>\n",
       "    <tr style=\"text-align: right;\">\n",
       "      <th></th>\n",
       "      <th>claim</th>\n",
       "      <th>verdict</th>\n",
       "      <th>confidence</th>\n",
       "      <th>reasoning</th>\n",
       "    </tr>\n",
       "  </thead>\n",
       "  <tbody>\n",
       "    <tr>\n",
       "      <th>0</th>\n",
       "      <td>The Concorde could fly at Mach 2</td>\n",
       "      <td>LEGITIMATE</td>\n",
       "      <td>95</td>\n",
       "      <td>The Concorde was a supersonic passenger airlin...</td>\n",
       "    </tr>\n",
       "    <tr>\n",
       "      <th>1</th>\n",
       "      <td>Airplanes can fly underwater like submarines</td>\n",
       "      <td>BS</td>\n",
       "      <td>95</td>\n",
       "      <td>Airplanes are designed to fly in air, relying ...</td>\n",
       "    </tr>\n",
       "    <tr>\n",
       "      <th>2</th>\n",
       "      <td>The Wright brothers made the first powered flight</td>\n",
       "      <td>LEGITIMATE</td>\n",
       "      <td>95</td>\n",
       "      <td>The Wright brothers are historically credited ...</td>\n",
       "    </tr>\n",
       "    <tr>\n",
       "      <th>3</th>\n",
       "      <td>Modern aircraft have weather radar</td>\n",
       "      <td>LEGITIMATE</td>\n",
       "      <td>95</td>\n",
       "      <td>Modern aircraft, especially commercial and man...</td>\n",
       "    </tr>\n",
       "  </tbody>\n",
       "</table>\n",
       "</div>"
      ],
      "text/plain": [
       "                                               claim     verdict  confidence  \\\n",
       "0                   The Concorde could fly at Mach 2  LEGITIMATE          95   \n",
       "1       Airplanes can fly underwater like submarines          BS          95   \n",
       "2  The Wright brothers made the first powered flight  LEGITIMATE          95   \n",
       "3                 Modern aircraft have weather radar  LEGITIMATE          95   \n",
       "\n",
       "                                           reasoning  \n",
       "0  The Concorde was a supersonic passenger airlin...  \n",
       "1  Airplanes are designed to fly in air, relying ...  \n",
       "2  The Wright brothers are historically credited ...  \n",
       "3  Modern aircraft, especially commercial and man...  "
      ]
     },
     "metadata": {},
     "output_type": "display_data"
    },
    {
     "name": "stdout",
     "output_type": "stream",
     "text": [
      "\n",
      "Total batch processing time: 4.05s\n",
      "Average time per claim: 1.01s\n"
     ]
    }
   ],
   "source": [
    "# Batch process claims\n",
    "batch_claims = [\n",
    "    \"The Concorde could fly at Mach 2\",\n",
    "    \"Airplanes can fly underwater like submarines\",\n",
    "    \"The Wright brothers made the first powered flight\",\n",
    "    \"Modern aircraft have weather radar\"\n",
    "]\n",
    "\n",
    "print(\"Processing batch of claims...\\n\")\n",
    "start_time = time.time()\n",
    "batch_results = check_claim_batch(batch_claims, llm)\n",
    "batch_time = time.time() - start_time\n",
    "\n",
    "# Display results as a table\n",
    "batch_df = pd.DataFrame(batch_results)\n",
    "display(batch_df[['claim', 'verdict', 'confidence', 'reasoning']])\n",
    "\n",
    "print(f\"\\nTotal batch processing time: {batch_time:.2f}s\")\n",
    "print(f\"Average time per claim: {batch_time/len(batch_claims):.2f}s\")"
   ]
  },
  {
   "cell_type": "markdown",
   "metadata": {},
   "source": [
    "## 7. Failure Mode Analysis\n",
    "\n",
    "Let's identify where the baseline approach struggles."
   ]
  },
  {
   "cell_type": "code",
   "execution_count": 19,
   "metadata": {},
   "outputs": [
    {
     "name": "stdout",
     "output_type": "stream",
     "text": [
      "Testing challenging claims...\n",
      "\n"
     ]
    },
    {
     "data": {
      "text/html": [
       "\n",
       "    <div style=\"border: 2px solid red; padding: 10px; margin: 10px 0; border-radius: 5px;\">\n",
       "        <strong>Claim:</strong> The Boeing 747 has four engines and can fly to the moon<br>\n",
       "        <strong>Verdict:</strong> <span style=\"color: red; font-weight: bold;\">BS</span> \n",
       "        (Confidence: 95%)<br>\n",
       "        <strong>Reasoning:</strong> While the Boeing 747 does have four engines, it is a commercial airliner designed for atmospheric flight, not space travel. It lacks the propulsion and life support systems necessary to fly to the moon, making the claim false.\n",
       "    </div>\n",
       "    "
      ],
      "text/plain": [
       "<IPython.core.display.HTML object>"
      ]
     },
     "metadata": {},
     "output_type": "display_data"
    },
    {
     "name": "stdout",
     "output_type": "stream",
     "text": [
      "⚠️ Challenge: This claim is challenging because it The Boeing 747 has four engine...\n",
      "\n"
     ]
    },
    {
     "data": {
      "text/html": [
       "\n",
       "    <div style=\"border: 2px solid red; padding: 10px; margin: 10px 0; border-radius: 5px;\">\n",
       "        <strong>Claim:</strong> Aircraft use reverse osmosis for cabin pressurization<br>\n",
       "        <strong>Verdict:</strong> <span style=\"color: red; font-weight: bold;\">BS</span> \n",
       "        (Confidence: 95%)<br>\n",
       "        <strong>Reasoning:</strong> Aircraft cabin pressurization is achieved by using bleed air from the engines, which is compressed and conditioned, not by reverse osmosis, a water purification process unrelated to air pressurization.\n",
       "    </div>\n",
       "    "
      ],
      "text/plain": [
       "<IPython.core.display.HTML object>"
      ]
     },
     "metadata": {},
     "output_type": "display_data"
    },
    {
     "name": "stdout",
     "output_type": "stream",
     "text": [
      "⚠️ Challenge: This claim is challenging because it Aircraft use reverse osmosis f...\n",
      "\n"
     ]
    },
    {
     "data": {
      "text/html": [
       "\n",
       "    <div style=\"border: 2px solid green; padding: 10px; margin: 10px 0; border-radius: 5px;\">\n",
       "        <strong>Claim:</strong> Some planes can fly upside down<br>\n",
       "        <strong>Verdict:</strong> <span style=\"color: green; font-weight: bold;\">LEGITIMATE</span> \n",
       "        (Confidence: 95%)<br>\n",
       "        <strong>Reasoning:</strong> Certain aircraft, especially aerobatic planes, are designed to perform inverted flight safely, so it is true that some planes can fly upside down.\n",
       "    </div>\n",
       "    "
      ],
      "text/plain": [
       "<IPython.core.display.HTML object>"
      ]
     },
     "metadata": {},
     "output_type": "display_data"
    },
    {
     "name": "stdout",
     "output_type": "stream",
     "text": [
      "⚠️ Challenge: This claim is challenging because it Some planes can fly upside dow...\n",
      "\n"
     ]
    },
    {
     "data": {
      "text/html": [
       "\n",
       "    <div style=\"border: 2px solid green; padding: 10px; margin: 10px 0; border-radius: 5px;\">\n",
       "        <strong>Claim:</strong> Planes fly at 500 mph<br>\n",
       "        <strong>Verdict:</strong> <span style=\"color: green; font-weight: bold;\">LEGITIMATE</span> \n",
       "        (Confidence: 95%)<br>\n",
       "        <strong>Reasoning:</strong> Most commercial jets typically cruise between 450 and 600 mph, so stating that planes fly at 500 mph is a reasonable average estimate for cruising speed.\n",
       "    </div>\n",
       "    "
      ],
      "text/plain": [
       "<IPython.core.display.HTML object>"
      ]
     },
     "metadata": {},
     "output_type": "display_data"
    },
    {
     "name": "stdout",
     "output_type": "stream",
     "text": [
      "⚠️ Challenge: This claim is challenging because it Planes fly at 500 mph...\n",
      "\n"
     ]
    },
    {
     "data": {
      "text/html": [
       "\n",
       "    <div style=\"border: 2px solid green; padding: 10px; margin: 10px 0; border-radius: 5px;\">\n",
       "        <strong>Claim:</strong> The Concorde was the fastest passenger plane<br>\n",
       "        <strong>Verdict:</strong> <span style=\"color: green; font-weight: bold;\">LEGITIMATE</span> \n",
       "        (Confidence: 95%)<br>\n",
       "        <strong>Reasoning:</strong> The Concorde was indeed the fastest commercial passenger aircraft, capable of flying at speeds over Mach 2 (about 1,354 mph), which is significantly faster than any other passenger plane in service.\n",
       "    </div>\n",
       "    "
      ],
      "text/plain": [
       "<IPython.core.display.HTML object>"
      ]
     },
     "metadata": {},
     "output_type": "display_data"
    },
    {
     "name": "stdout",
     "output_type": "stream",
     "text": [
      "⚠️ Challenge: This claim is challenging because it The Concorde was the fastest p...\n",
      "\n"
     ]
    }
   ],
   "source": [
    "# Challenging claims that might confuse the system\n",
    "challenging_claims = [\n",
    "    # Partially true\n",
    "    \"The Boeing 747 has four engines and can fly to the moon\",\n",
    "    \n",
    "    # Technical but wrong\n",
    "    \"Aircraft use reverse osmosis for cabin pressurization\",\n",
    "    \n",
    "    # Sounds fake but true\n",
    "    \"Some planes can fly upside down\",\n",
    "    \n",
    "    # Context-dependent\n",
    "    \"Planes fly at 500 mph\",\n",
    "    \n",
    "    # Historical\n",
    "    \"The Concorde was the fastest passenger plane\"\n",
    "]\n",
    "\n",
    "print(\"Testing challenging claims...\\n\")\n",
    "for claim in challenging_claims:\n",
    "    result = check_claim(claim, llm)\n",
    "    display_result(claim, result)\n",
    "    \n",
    "    # Add analysis\n",
    "    print(f\"⚠️ Challenge: This claim is challenging because it {claim[:30]}...\")\n",
    "    print()"
   ]
  },
  {
   "cell_type": "markdown",
   "metadata": {},
   "source": [
    "## 8. Key Takeaways\n",
    "\n",
    "### Strengths of the Baseline Approach:\n",
    "1. **Simple and fast** - Single LLM call\n",
    "2. **No external dependencies** - Just the LLM\n",
    "3. **Decent accuracy** - Works well for obvious cases\n",
    "4. **Type-safe with Pydantic** - Structured output with validation\n",
    "5. **Guaranteed response format** - No parsing errors\n",
    "\n",
    "### Limitations:\n",
    "1. **No fact verification** - Relies entirely on LLM knowledge\n",
    "2. **Inconsistent confidence** - Confidence scores can be arbitrary\n",
    "3. **Context limitations** - Can't handle nuanced or partial truths well\n",
    "4. **No evidence** - Doesn't provide sources or citations\n",
    "5. **No retry mechanism** - Single attempt only\n",
    "\n",
    "### What We Learned:\n",
    "- Pydantic models provide type safety and validation\n",
    "- Structured output from LLMs eliminates parsing complexity\n",
    "- Even simple approaches can achieve decent accuracy\n",
    "- Clear prompts are crucial for consistent results\n",
    "\n",
    "### Next Steps (Iteration 2):\n",
    "- Add retry logic for failed attempts\n",
    "- Implement an agent base class for reusability\n",
    "- Add more sophisticated error handling\n",
    "- Consider chain-of-thought reasoning"
   ]
  },
  {
   "cell_type": "code",
   "execution_count": 20,
   "metadata": {},
   "outputs": [
    {
     "name": "stdout",
     "output_type": "stream",
     "text": [
      "Baseline Performance Metrics:\n",
      "  avg_response_time: 1.47\n",
      "  max_response_time: 4.58\n",
      "  accuracy: 1.00\n",
      "  error_rate: 0.00\n",
      "  avg_confidence: 95.00\n"
     ]
    }
   ],
   "source": [
    "# Save performance metrics for comparison with future iterations\n",
    "baseline_metrics = {\n",
    "    'avg_response_time': np.mean(times),\n",
    "    'max_response_time': max(times),\n",
    "    'accuracy': df['correct'].mean(),\n",
    "    'error_rate': (df['verdict'] == 'ERROR').mean(),\n",
    "    'avg_confidence': df[df['verdict'] != 'ERROR']['confidence'].mean()\n",
    "}\n",
    "\n",
    "print(\"Baseline Performance Metrics:\")\n",
    "for metric, value in baseline_metrics.items():\n",
    "    print(f\"  {metric}: {value:.2f}\")"
   ]
  },
  {
   "cell_type": "code",
   "execution_count": null,
   "metadata": {},
   "outputs": [],
   "source": []
  }
 ],
 "metadata": {
  "kernelspec": {
   "display_name": "Python 3 (ipykernel)",
   "language": "python",
   "name": "python3"
  },
  "language_info": {
   "codemirror_mode": {
    "name": "ipython",
    "version": 3
   },
   "file_extension": ".py",
   "mimetype": "text/x-python",
   "name": "python",
   "nbconvert_exporter": "python",
   "pygments_lexer": "ipython3",
   "version": "3.13.5"
  }
 },
 "nbformat": 4,
 "nbformat_minor": 4
}
